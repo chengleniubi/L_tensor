{
  "nbformat": 4,
  "nbformat_minor": 0,
  "metadata": {
    "kernelspec": {
      "display_name": "Python 3",
      "language": "python",
      "name": "python3"
    },
    "language_info": {
      "codemirror_mode": {
        "name": "ipython",
        "version": 3
      },
      "file_extension": ".py",
      "mimetype": "text/x-python",
      "name": "python",
      "nbconvert_exporter": "python",
      "pygments_lexer": "ipython3",
      "version": "3.6.4"
    },
    "colab": {
      "name": "2.logistic-regression.ipynb",
      "provenance": [],
      "include_colab_link": true
    }
  },
  "cells": [
    {
      "cell_type": "markdown",
      "metadata": {
        "id": "view-in-github",
        "colab_type": "text"
      },
      "source": [
        "<a href=\"https://colab.research.google.com/github/chengleniubi/L_tensor/blob/main/04.%E7%A5%9E%E7%BB%8F%E7%BD%91%E7%BB%9C%EF%BC%88%E8%BF%9B%E9%98%B6%EF%BC%89/2.logistic-regression.ipynb\" target=\"_parent\"><img src=\"https://colab.research.google.com/assets/colab-badge.svg\" alt=\"Open In Colab\"/></a>"
      ]
    },
    {
      "cell_type": "markdown",
      "metadata": {
        "id": "LAwjTyJihG0q"
      },
      "source": [
        "# Logistic 回归模型"
      ]
    },
    {
      "cell_type": "markdown",
      "metadata": {
        "id": "q-J5_PpIhG0u"
      },
      "source": [
        "下面我们通过例子来具体学习 Logistic 回归"
      ]
    },
    {
      "cell_type": "code",
      "metadata": {
        "collapsed": true,
        "id": "4_fnsXDHhG0v"
      },
      "source": [
        "import torch\n",
        "from torch.autograd import Variable\n",
        "import numpy as np\n",
        "import matplotlib.pyplot as plt\n",
        "%matplotlib inline"
      ],
      "execution_count": 2,
      "outputs": []
    },
    {
      "cell_type": "code",
      "metadata": {
        "id": "_gsGMeAEhG0v"
      },
      "source": [
        "# 设定随机种子\n",
        "torch.cuda.manual_seed(2017)"
      ],
      "execution_count": 4,
      "outputs": []
    },
    {
      "cell_type": "markdown",
      "metadata": {
        "id": "Q6gHuoyqhG0w"
      },
      "source": [
        "我们从 data.txt 读入数据，感兴趣的同学可以打开 data.txt 文件进行查看\n",
        "\n",
        "读入数据点之后我们根据不同的 label 将数据点分为了红色和蓝色，并且画图展示出来了"
      ]
    },
    {
      "cell_type": "code",
      "metadata": {
        "id": "LSt59LO_hG0w",
        "outputId": "c5833264-f06e-4dec-eb07-f06689db1f40",
        "colab": {
          "base_uri": "https://localhost:8080/",
          "height": 354
        }
      },
      "source": [
        "# 从 data.txt 中读入点\n",
        "with open('./data.txt', 'r') as f:\n",
        "    data_list = [i.split('\\n')[0].split(',') for i in f.readlines()]\n",
        "    data = [(float(i[0]), float(i[1]), float(i[2])) for i in data_list]\n",
        "print(data_list)\n",
        "print(data)\n",
        "# 标准化\n",
        "x0_max = max([i[0] for i in data])\n",
        "x1_max = max([i[1] for i in data])\n",
        "data = [(i[0]/x0_max, i[1]/x1_max, i[2]) for i in data]\n",
        "print(data)\n",
        "x0 = list(filter(lambda x: x[-1] == 0.0, data)) # 选择第一类的点\n",
        "x1 = list(filter(lambda x: x[-1] == 1.0, data)) # 选择第二类的点\n",
        "\n",
        "plot_x0 = [i[0] for i in x0]\n",
        "plot_y0 = [i[1] for i in x0]\n",
        "plot_x1 = [i[0] for i in x1]\n",
        "plot_y1 = [i[1] for i in x1]\n",
        "\n",
        "plt.plot(plot_x0, plot_y0, 'ro', label='x_0')\n",
        "plt.plot(plot_x1, plot_y1, 'bo', label='x_1')\n",
        "plt.legend(loc='best')"
      ],
      "execution_count": 9,
      "outputs": [
        {
          "output_type": "stream",
          "text": [
            "[['34.62365962451697', '78.0246928153624', '0'], ['30.28671076822607', '43.89499752400101', '0'], ['35.84740876993872', '72.90219802708364', '0'], ['60.18259938620976', '86.30855209546826', '1'], ['79.0327360507101', '75.3443764369103', '1'], ['45.08327747668339', '56.3163717815305', '0'], ['61.10666453684766', '96.51142588489624', '1'], ['75.02474556738889', '46.55401354116538', '1'], ['76.09878670226257', '87.42056971926803', '1'], ['84.43281996120035', '43.53339331072109', '1'], ['95.86155507093572', '38.22527805795094', '0'], ['75.01365838958247', '30.60326323428011', '0'], ['82.30705337399482', '76.48196330235604', '1'], ['69.36458875970939', '97.71869196188608', '1'], ['39.53833914367223', '76.03681085115882', '0'], ['53.9710521485623', '89.20735013750205', '1'], ['69.07014406283025', '52.74046973016765', '1'], ['67.94685547711617', '46.67857410673128', '0'], ['70.66150955499435', '92.92713789364831', '1'], ['76.97878372747498', '47.57596364975532', '1'], ['67.37202754570876', '42.83843832029179', '0'], ['89.67677575072079', '65.79936592745237', '1'], ['50.534788289883', '48.85581152764205', '0'], ['34.21206097786789', '44.20952859866288', '0'], ['77.9240914545704', '68.9723599933059', '1'], ['62.27101367004632', '69.95445795447587', '1'], ['80.1901807509566', '44.82162893218353', '1'], ['93.114388797442', '38.80067033713209', '0'], ['61.83020602312595', '50.25610789244621', '0'], ['38.78580379679423', '64.99568095539578', '0'], ['61.379289447425', '72.80788731317097', '1'], ['85.40451939411645', '57.05198397627122', '1'], ['52.10797973193984', '63.12762376881715', '0'], ['52.04540476831827', '69.43286012045222', '1'], ['40.23689373545111', '71.16774802184875', '0'], ['54.63510555424817', '52.21388588061123', '0'], ['33.91550010906887', '98.86943574220611', '0'], ['64.17698887494485', '80.90806058670817', '1'], ['74.78925295941542', '41.57341522824434', '0'], ['34.1836400264419', '75.2377203360134', '0'], ['83.90239366249155', '56.30804621605327', '1'], ['51.54772026906181', '46.85629026349976', '0'], ['94.44336776917852', '65.56892160559052', '1'], ['82.36875375713919', '40.61825515970618', '0'], ['51.04775177128865', '45.82270145776001', '0'], ['62.22267576120188', '52.06099194836679', '0'], ['77.19303492601364', '70.45820000180959', '1'], ['97.77159928000232', '86.7278223300282', '1'], ['62.07306379667647', '96.76882412413983', '1'], ['91.56497449807442', '88.69629254546599', '1'], ['79.94481794066932', '74.16311935043758', '1'], ['99.2725269292572', '60.99903099844988', '1'], ['90.54671411399852', '43.39060180650027', '1'], ['34.52451385320009', '60.39634245837173', '0'], ['50.2864961189907', '49.80453881323059', '0'], ['49.58667721632031', '59.80895099453265', '0'], ['97.64563396007767', '68.86157272420604', '1'], ['32.57720016809309', '95.59854761387875', '0'], ['74.24869136721598', '69.82457122657193', '1'], ['71.79646205863379', '78.45356224515052', '1'], ['75.3956114656803', '85.75993667331619', '1'], ['35.28611281526193', '47.02051394723416', '0'], ['56.25381749711624', '39.26147251058019', '0'], ['30.05882244669796', '49.59297386723685', '0'], ['44.66826172480893', '66.45008614558913', '0'], ['66.56089447242954', '41.09209807936973', '0'], ['40.45755098375164', '97.53518548909936', '1'], ['49.07256321908844', '51.88321182073966', '0'], ['80.27957401466998', '92.11606081344084', '1'], ['66.74671856944039', '60.99139402740988', '1'], ['32.72283304060323', '43.30717306430063', '0'], ['64.0393204150601', '78.03168802018232', '1'], ['72.34649422579923', '96.22759296761404', '1'], ['60.45788573918959', '73.09499809758037', '1'], ['58.84095621726802', '75.85844831279042', '1'], ['99.82785779692128', '72.36925193383885', '1'], ['47.26426910848174', '88.47586499559782', '1'], ['50.45815980285988', '75.80985952982456', '1'], ['60.45555629271532', '42.50840943572217', '0'], ['82.22666157785568', '42.71987853716458', '0'], ['88.9138964166533', '69.80378889835472', '1'], ['94.83450672430196', '45.69430680250754', '1'], ['67.31925746917527', '66.58935317747915', '1'], ['57.23870631569862', '59.51428198012956', '1'], ['80.36675600171273', '90.96014789746954', '1'], ['68.46852178591112', '85.59430710452014', '1'], ['42.0754545384731', '78.84478600148043', '0'], ['75.47770200533905', '90.42453899753964', '1'], ['78.63542434898018', '96.64742716885644', '1'], ['52.34800398794107', '60.76950525602592', '0'], ['94.09433112516793', '77.15910509073893', '1'], ['90.44855097096364', '87.50879176484702', '1'], ['55.48216114069585', '35.57070347228866', '0'], ['74.49269241843041', '84.84513684930135', '1'], ['89.84580670720979', '45.35828361091658', '1'], ['83.48916274498238', '48.38028579728175', '1'], ['42.2617008099817', '87.10385094025457', '1'], ['99.31500880510394', '68.77540947206617', '1'], ['55.34001756003703', '64.9319380069486', '1'], ['74.77589300092767', '89.52981289513276', '1']]\n",
            "[(34.62365962451697, 78.0246928153624, 0.0), (30.28671076822607, 43.89499752400101, 0.0), (35.84740876993872, 72.90219802708364, 0.0), (60.18259938620976, 86.30855209546826, 1.0), (79.0327360507101, 75.3443764369103, 1.0), (45.08327747668339, 56.3163717815305, 0.0), (61.10666453684766, 96.51142588489624, 1.0), (75.02474556738889, 46.55401354116538, 1.0), (76.09878670226257, 87.42056971926803, 1.0), (84.43281996120035, 43.53339331072109, 1.0), (95.86155507093572, 38.22527805795094, 0.0), (75.01365838958247, 30.60326323428011, 0.0), (82.30705337399482, 76.48196330235604, 1.0), (69.36458875970939, 97.71869196188608, 1.0), (39.53833914367223, 76.03681085115882, 0.0), (53.9710521485623, 89.20735013750205, 1.0), (69.07014406283025, 52.74046973016765, 1.0), (67.94685547711617, 46.67857410673128, 0.0), (70.66150955499435, 92.92713789364831, 1.0), (76.97878372747498, 47.57596364975532, 1.0), (67.37202754570876, 42.83843832029179, 0.0), (89.6767757507208, 65.79936592745237, 1.0), (50.534788289883, 48.85581152764205, 0.0), (34.21206097786789, 44.20952859866288, 0.0), (77.9240914545704, 68.9723599933059, 1.0), (62.27101367004632, 69.95445795447587, 1.0), (80.1901807509566, 44.82162893218353, 1.0), (93.114388797442, 38.80067033713209, 0.0), (61.83020602312595, 50.25610789244621, 0.0), (38.78580379679423, 64.99568095539578, 0.0), (61.379289447425, 72.80788731317097, 1.0), (85.40451939411645, 57.05198397627122, 1.0), (52.10797973193984, 63.12762376881715, 0.0), (52.04540476831827, 69.43286012045222, 1.0), (40.23689373545111, 71.16774802184875, 0.0), (54.63510555424817, 52.21388588061123, 0.0), (33.91550010906887, 98.86943574220611, 0.0), (64.17698887494485, 80.90806058670817, 1.0), (74.78925295941542, 41.57341522824434, 0.0), (34.1836400264419, 75.2377203360134, 0.0), (83.90239366249155, 56.30804621605327, 1.0), (51.54772026906181, 46.85629026349976, 0.0), (94.44336776917852, 65.56892160559052, 1.0), (82.36875375713919, 40.61825515970618, 0.0), (51.04775177128865, 45.82270145776001, 0.0), (62.22267576120188, 52.06099194836679, 0.0), (77.19303492601364, 70.45820000180959, 1.0), (97.77159928000232, 86.7278223300282, 1.0), (62.07306379667647, 96.76882412413983, 1.0), (91.56497449807442, 88.696292545466, 1.0), (79.94481794066932, 74.16311935043758, 1.0), (99.2725269292572, 60.99903099844988, 1.0), (90.54671411399852, 43.39060180650027, 1.0), (34.52451385320009, 60.39634245837173, 0.0), (50.2864961189907, 49.80453881323059, 0.0), (49.58667721632031, 59.80895099453265, 0.0), (97.64563396007767, 68.86157272420604, 1.0), (32.57720016809309, 95.59854761387875, 0.0), (74.24869136721598, 69.82457122657193, 1.0), (71.7964620586338, 78.45356224515052, 1.0), (75.3956114656803, 85.75993667331619, 1.0), (35.28611281526193, 47.02051394723416, 0.0), (56.25381749711624, 39.26147251058019, 0.0), (30.05882244669796, 49.59297386723685, 0.0), (44.66826172480893, 66.45008614558913, 0.0), (66.56089447242954, 41.09209807936973, 0.0), (40.45755098375164, 97.53518548909936, 1.0), (49.07256321908844, 51.88321182073966, 0.0), (80.27957401466998, 92.11606081344084, 1.0), (66.74671856944039, 60.99139402740988, 1.0), (32.72283304060323, 43.30717306430063, 0.0), (64.0393204150601, 78.03168802018232, 1.0), (72.34649422579923, 96.22759296761404, 1.0), (60.45788573918959, 73.09499809758037, 1.0), (58.84095621726802, 75.85844831279042, 1.0), (99.82785779692128, 72.36925193383885, 1.0), (47.26426910848174, 88.47586499559782, 1.0), (50.45815980285988, 75.80985952982456, 1.0), (60.45555629271532, 42.50840943572217, 0.0), (82.22666157785568, 42.71987853716458, 0.0), (88.9138964166533, 69.80378889835472, 1.0), (94.83450672430196, 45.69430680250754, 1.0), (67.31925746917527, 66.58935317747915, 1.0), (57.23870631569862, 59.51428198012956, 1.0), (80.36675600171273, 90.96014789746954, 1.0), (68.46852178591112, 85.59430710452014, 1.0), (42.0754545384731, 78.84478600148043, 0.0), (75.47770200533905, 90.42453899753964, 1.0), (78.63542434898018, 96.64742716885644, 1.0), (52.34800398794107, 60.76950525602592, 0.0), (94.09433112516793, 77.15910509073893, 1.0), (90.44855097096364, 87.50879176484702, 1.0), (55.48216114069585, 35.57070347228866, 0.0), (74.49269241843041, 84.84513684930135, 1.0), (89.84580670720979, 45.35828361091658, 1.0), (83.48916274498238, 48.38028579728175, 1.0), (42.2617008099817, 87.10385094025457, 1.0), (99.31500880510394, 68.77540947206617, 1.0), (55.34001756003703, 64.9319380069486, 1.0), (74.77589300092767, 89.52981289513276, 1.0)]\n",
            "[(0.34683364331979855, 0.7891689906960261, 0.0), (0.3033893688256638, 0.4439693338440162, 0.0), (0.35909223698722165, 0.7373582895443047, 0.0), (0.6028637768491293, 0.8729548363208088, 1.0), (0.79169019344766, 0.7620593348318943, 1.0), (0.4516101864911878, 0.5696034508416816, 0.0), (0.6121203628465741, 0.9761502648456679, 1.0), (0.751541175209939, 0.47086355041563227, 1.0), (0.7623001072212678, 0.8842021709035536, 1.0), (0.8457841510829684, 0.4403119425525075, 1.0), (0.9602685781953354, 0.3866238112010692, 0.0), (0.7514301122456413, 0.3095320915361102, 0.0), (0.8244898286952241, 0.7735652856538642, 1.0), (0.6948420039305764, 0.9883609755463711, 1.0), (0.3960651867748644, 0.7690628583075818, 0.0), (0.540641193146256, 0.9022742920279514, 1.0), (0.6918924795855972, 0.5334355287278475, 1.0), (0.6806402238475329, 0.4721233994744525, 0.0), (0.7078335758615625, 0.9398975244073219, 1.0), (0.7711152520579183, 0.4811999106964231, 1.0), (0.6748820322555948, 0.43328292508909916, 0.0), (0.8983141352501952, 0.665517765257797, 1.0), (0.5062192999541808, 0.49414473907820755, 0.0), (0.3427105592856166, 0.4471506109727942, 0.0), (0.7805846301248949, 0.6976105353038085, 1.0), (0.6237839321036375, 0.7075438170485401, 1.0), (0.8032845993158203, 0.45334160750196073, 1.0), (0.932749543587959, 0.39244352964956364, 0.0), (0.6193682543895359, 0.5083078255193533, 0.0), (0.3885268566585468, 0.6573890147898351, 0.0), (0.6148513130702276, 0.7364043980488725, 1.0), (0.8555179013042024, 0.577043689467689, 1.0), (0.521978342337492, 0.6384948320471578, 0.0), (0.5213515136645892, 0.7022681944043119, 1.0), (0.4030627785012134, 0.7198154564916581, 0.0), (0.5472931780765222, 0.5281094757813186, 0.0), (0.33973983673037245, 1.0, 0.0), (0.6428765506067394, 0.8183323792569148, 1.0), (0.7491821883181985, 0.4204880397683627, 0.0), (0.3424258596831889, 0.7609805777812826, 0.0), (0.8404707414755235, 0.5695192431650147, 1.0), (0.5163660866481256, 0.47392088274553995, 0.0), (0.946062250091589, 0.6631869709113751, 1.0), (0.8251078964821728, 0.4108272172768835, 0.0), (0.511357780261443, 0.46346680461734324, 0.0), (0.6232997194809167, 0.5265630531574139, 0.0), (0.7732614585704782, 0.7126388400306393, 1.0), (0.9794019569056367, 0.8771954818895077, 1.0), (0.6218010199412576, 0.978753680525259, 1.0), (0.9172286826423146, 0.897105277072019, 1.0), (0.8008267402001172, 0.750111688144067, 1.0), (0.9944371152509975, 0.6169655014265463, 1.0), (0.9070285200168946, 0.43886769941357495, 1.0), (0.345840475946433, 0.6108696990630168, 0.0), (0.5037320967188134, 0.5037404981564961, 0.0), (0.49672184008189324, 0.604928616670571, 0.0), (0.9781401315724627, 0.6964899941753173, 1.0), (0.3263337598044479, 0.9669170952198419, 0.0), (0.7437672510038158, 0.7062300973238458, 1.0), (0.7192026719103655, 0.7935067258774664, 1.0), (0.755256229368928, 0.8674059483552444, 1.0), (0.35346959850670223, 0.4755818984325577, 0.0), (0.5635082104191073, 0.397104243751843, 0.0), (0.301106555925965, 0.5016006564106064, 0.0), (0.44745287248051624, 0.6720993767866972, 0.0), (0.6667567144216762, 0.4156198300404382, 0.0), (0.4052731559767013, 0.9865049269969974, 1.0), (0.49157183477698396, 0.5247649228627222, 0.0), (0.8041800734418426, 0.931694007576071, 1.0), (0.6686181597247385, 0.6168882584344864, 1.0), (0.32779259980887226, 0.4380238719802195, 0.0), (0.6414974920661384, 0.7892397426404203, 1.0), (0.724712478284097, 0.9732794796009512, 1.0), (0.6056213873904658, 0.7393083367864013, 1.0), (0.589424209993242, 0.7672588373072651, 1.0), (1.0, 0.731967886643307, 1.0), (0.4734577116202466, 0.8948757958555699, 1.0), (0.5054516937096493, 0.7667673933883118, 1.0), (0.6055980527569709, 0.429944897698813, 0.0), (0.82368452446539, 0.4320837700394401, 0.0), (0.890672186891257, 0.7060198975987113, 1.0), (0.949980384405551, 0.4621681762365032, 1.0), (0.674353421528108, 0.6735079721816699, 1.0), (0.5733740819335089, 0.6019482313554225, 1.0), (0.8050533966701153, 0.9200027006793142, 1.0), (0.685865882499411, 0.865730713055754, 1.0), (0.4214800904980526, 0.7974636995710352, 0.0), (0.7560785503269289, 0.9145853652216056, 1.0), (0.7877102252253811, 0.9775258293256233, 1.0), (0.5243827238528151, 0.6146439979133429, 0.0), (0.9425658648969809, 0.7804141341710995, 1.0), (0.9060451958706971, 0.8850944794811915, 1.0), (0.5557783404865063, 0.35977451681868944, 0.0), (0.7462114690467473, 0.8581533434713641, 1.0), (0.9000073595687301, 0.45876952033168833, 1.0), (0.8363313065860181, 0.4893351057795996, 1.0), (0.423345764826029, 0.8809987665689797, 1.0), (0.9948626665628685, 0.6956185089534886, 1.0), (0.5543544535696101, 0.656744296349109, 1.0), (0.7490483583554748, 0.9055357929681561, 1.0)]\n"
          ],
          "name": "stdout"
        },
        {
          "output_type": "execute_result",
          "data": {
            "text/plain": [
              "<matplotlib.legend.Legend at 0x7fbadac2e828>"
            ]
          },
          "metadata": {
            "tags": []
          },
          "execution_count": 9
        },
        {
          "output_type": "display_data",
          "data": {
            "image/png": "[encoded data removed]",
            "text/plain": [
              "<Figure size 432x288 with 1 Axes>"
            ]
          },
          "metadata": {
            "tags": [],
            "needs_background": "light"
          }
        }
      ]
    },
    {
      "cell_type": "markdown",
      "metadata": {
        "id": "nfPl-UkshG0x"
      },
      "source": [
        "接下来我们将数据转换成 NumPy 的类型，接着转换到 Tensor 为之后的训练做准备"
      ]
    },
    {
      "cell_type": "code",
      "metadata": {
        "id": "_fMaT-mwhG0x",
        "outputId": "d5b7efcd-5c66-4410-df2e-834bd5da79df",
        "colab": {
          "base_uri": "https://localhost:8080/"
        }
      },
      "source": [
        "np_data = np.array(data, dtype='float32') # 转换成 numpy array\n",
        "x_data = torch.from_numpy(np_data[:, 0:2]) # 转换成 Tensor, 大小是 [100, 2]\n",
        "y_data = torch.from_numpy(np_data[:, -1]).unsqueeze(1) # 转换成 Tensor，大小是 [100, 1]\n",
        "print(x_data)\n",
        "print(y_data)"
      ],
      "execution_count": 14,
      "outputs": [
        {
          "output_type": "stream",
          "text": [
            "tensor([[0.3468, 0.7892],\n",
            "        [0.3034, 0.4440],\n",
            "        [0.3591, 0.7374],\n",
            "        [0.6029, 0.8730],\n",
            "        [0.7917, 0.7621],\n",
            "        [0.4516, 0.5696],\n",
            "        [0.6121, 0.9762],\n",
            "        [0.7515, 0.4709],\n",
            "        [0.7623, 0.8842],\n",
            "        [0.8458, 0.4403],\n",
            "        [0.9603, 0.3866],\n",
            "        [0.7514, 0.3095],\n",
            "        [0.8245, 0.7736],\n",
            "        [0.6948, 0.9884],\n",
            "        [0.3961, 0.7691],\n",
            "        [0.5406, 0.9023],\n",
            "        [0.6919, 0.5334],\n",
            "        [0.6806, 0.4721],\n",
            "        [0.7078, 0.9399],\n",
            "        [0.7711, 0.4812],\n",
            "        [0.6749, 0.4333],\n",
            "        [0.8983, 0.6655],\n",
            "        [0.5062, 0.4941],\n",
            "        [0.3427, 0.4472],\n",
            "        [0.7806, 0.6976],\n",
            "        [0.6238, 0.7075],\n",
            "        [0.8033, 0.4533],\n",
            "        [0.9327, 0.3924],\n",
            "        [0.6194, 0.5083],\n",
            "        [0.3885, 0.6574],\n",
            "        [0.6149, 0.7364],\n",
            "        [0.8555, 0.5770],\n",
            "        [0.5220, 0.6385],\n",
            "        [0.5214, 0.7023],\n",
            "        [0.4031, 0.7198],\n",
            "        [0.5473, 0.5281],\n",
            "        [0.3397, 1.0000],\n",
            "        [0.6429, 0.8183],\n",
            "        [0.7492, 0.4205],\n",
            "        [0.3424, 0.7610],\n",
            "        [0.8405, 0.5695],\n",
            "        [0.5164, 0.4739],\n",
            "        [0.9461, 0.6632],\n",
            "        [0.8251, 0.4108],\n",
            "        [0.5114, 0.4635],\n",
            "        [0.6233, 0.5266],\n",
            "        [0.7733, 0.7126],\n",
            "        [0.9794, 0.8772],\n",
            "        [0.6218, 0.9788],\n",
            "        [0.9172, 0.8971],\n",
            "        [0.8008, 0.7501],\n",
            "        [0.9944, 0.6170],\n",
            "        [0.9070, 0.4389],\n",
            "        [0.3458, 0.6109],\n",
            "        [0.5037, 0.5037],\n",
            "        [0.4967, 0.6049],\n",
            "        [0.9781, 0.6965],\n",
            "        [0.3263, 0.9669],\n",
            "        [0.7438, 0.7062],\n",
            "        [0.7192, 0.7935],\n",
            "        [0.7553, 0.8674],\n",
            "        [0.3535, 0.4756],\n",
            "        [0.5635, 0.3971],\n",
            "        [0.3011, 0.5016],\n",
            "        [0.4475, 0.6721],\n",
            "        [0.6668, 0.4156],\n",
            "        [0.4053, 0.9865],\n",
            "        [0.4916, 0.5248],\n",
            "        [0.8042, 0.9317],\n",
            "        [0.6686, 0.6169],\n",
            "        [0.3278, 0.4380],\n",
            "        [0.6415, 0.7892],\n",
            "        [0.7247, 0.9733],\n",
            "        [0.6056, 0.7393],\n",
            "        [0.5894, 0.7673],\n",
            "        [1.0000, 0.7320],\n",
            "        [0.4735, 0.8949],\n",
            "        [0.5055, 0.7668],\n",
            "        [0.6056, 0.4299],\n",
            "        [0.8237, 0.4321],\n",
            "        [0.8907, 0.7060],\n",
            "        [0.9500, 0.4622],\n",
            "        [0.6744, 0.6735],\n",
            "        [0.5734, 0.6019],\n",
            "        [0.8051, 0.9200],\n",
            "        [0.6859, 0.8657],\n",
            "        [0.4215, 0.7975],\n",
            "        [0.7561, 0.9146],\n",
            "        [0.7877, 0.9775],\n",
            "        [0.5244, 0.6146],\n",
            "        [0.9426, 0.7804],\n",
            "        [0.9060, 0.8851],\n",
            "        [0.5558, 0.3598],\n",
            "        [0.7462, 0.8582],\n",
            "        [0.9000, 0.4588],\n",
            "        [0.8363, 0.4893],\n",
            "        [0.4233, 0.8810],\n",
            "        [0.9949, 0.6956],\n",
            "        [0.5544, 0.6567],\n",
            "        [0.7490, 0.9055]])\n",
            "tensor([[0.],\n",
            "        [0.],\n",
            "        [0.],\n",
            "        [1.],\n",
            "        [1.],\n",
            "        [0.],\n",
            "        [1.],\n",
            "        [1.],\n",
            "        [1.],\n",
            "        [1.],\n",
            "        [0.],\n",
            "        [0.],\n",
            "        [1.],\n",
            "        [1.],\n",
            "        [0.],\n",
            "        [1.],\n",
            "        [1.],\n",
            "        [0.],\n",
            "        [1.],\n",
            "        [1.],\n",
            "        [0.],\n",
            "        [1.],\n",
            "        [0.],\n",
            "        [0.],\n",
            "        [1.],\n",
            "        [1.],\n",
            "        [1.],\n",
            "        [0.],\n",
            "        [0.],\n",
            "        [0.],\n",
            "        [1.],\n",
            "        [1.],\n",
            "        [0.],\n",
            "        [1.],\n",
            "        [0.],\n",
            "        [0.],\n",
            "        [0.],\n",
            "        [1.],\n",
            "        [0.],\n",
            "        [0.],\n",
            "        [1.],\n",
            "        [0.],\n",
            "        [1.],\n",
            "        [0.],\n",
            "        [0.],\n",
            "        [0.],\n",
            "        [1.],\n",
            "        [1.],\n",
            "        [1.],\n",
            "        [1.],\n",
            "        [1.],\n",
            "        [1.],\n",
            "        [1.],\n",
            "        [0.],\n",
            "        [0.],\n",
            "        [0.],\n",
            "        [1.],\n",
            "        [0.],\n",
            "        [1.],\n",
            "        [1.],\n",
            "        [1.],\n",
            "        [0.],\n",
            "        [0.],\n",
            "        [0.],\n",
            "        [0.],\n",
            "        [0.],\n",
            "        [1.],\n",
            "        [0.],\n",
            "        [1.],\n",
            "        [1.],\n",
            "        [0.],\n",
            "        [1.],\n",
            "        [1.],\n",
            "        [1.],\n",
            "        [1.],\n",
            "        [1.],\n",
            "        [1.],\n",
            "        [1.],\n",
            "        [0.],\n",
            "        [0.],\n",
            "        [1.],\n",
            "        [1.],\n",
            "        [1.],\n",
            "        [1.],\n",
            "        [1.],\n",
            "        [1.],\n",
            "        [0.],\n",
            "        [1.],\n",
            "        [1.],\n",
            "        [0.],\n",
            "        [1.],\n",
            "        [1.],\n",
            "        [0.],\n",
            "        [1.],\n",
            "        [1.],\n",
            "        [1.],\n",
            "        [1.],\n",
            "        [1.],\n",
            "        [1.],\n",
            "        [1.]])\n"
          ],
          "name": "stdout"
        }
      ]
    },
    {
      "cell_type": "markdown",
      "metadata": {
        "id": "tBqwKU6DhG0x"
      },
      "source": [
        "下面我们来实现以下 Sigmoid 的函数，Sigmoid 函数的公式为\n",
        "\n",
        "$$\n",
        "f(x) = \\frac{1}{1 + e^{-x}}\n",
        "$$"
      ]
    },
    {
      "cell_type": "code",
      "metadata": {
        "collapsed": true,
        "id": "V7_7xkQ3hG0x"
      },
      "source": [
        "# 定义 sigmoid 函数\n",
        "def sigmoid(x):\n",
        "    return 1 / (1 + np.exp(-x))"
      ],
      "execution_count": 11,
      "outputs": []
    },
    {
      "cell_type": "markdown",
      "metadata": {
        "id": "5HnM63B8hG0y"
      },
      "source": [
        "画出 Sigmoid 函数，可以看到值越大，经过 Sigmoid 函数之后越靠近 1，值越小，越靠近 0"
      ]
    },
    {
      "cell_type": "code",
      "metadata": {
        "id": "ItlEwcihhG0y",
        "outputId": "2c7957e4-7cfc-4b0b-82ad-306b3eab8459",
        "colab": {
          "base_uri": "https://localhost:8080/",
          "height": 282
        }
      },
      "source": [
        "# 画出 sigmoid 的图像\n",
        "\n",
        "plot_x = np.arange(-10, 10.01, 0.01)\n",
        "plot_y = sigmoid(plot_x)\n",
        "\n",
        "plt.plot(plot_x, plot_y, 'r')"
      ],
      "execution_count": 12,
      "outputs": [
        {
          "output_type": "execute_result",
          "data": {
            "text/plain": [
              "[<matplotlib.lines.Line2D at 0x7fbadac1ceb8>]"
            ]
          },
          "metadata": {
            "tags": []
          },
          "execution_count": 12
        },
        {
          "output_type": "display_data",
          "data": {
            "image/png": "[encoded data removed]",
            "text/plain": [
              "<Figure size 432x288 with 1 Axes>"
            ]
          },
          "metadata": {
            "tags": [],
            "needs_background": "light"
          }
        }
      ]
    },
    {
      "cell_type": "code",
      "metadata": {
        "id": "2B5bVzJfhG0y"
      },
      "source": [
        "x_data = Variable(x_data)\n",
        "y_data = Variable(y_data)"
      ],
      "execution_count": 15,
      "outputs": []
    },
    {
      "cell_type": "markdown",
      "metadata": {
        "id": "jtESpvXbhG0y"
      },
      "source": [
        "在 PyTorch 当中，不需要我们自己写 Sigmoid 的函数，PyTorch 已经用底层的 C++ 语言为我们写好了一些常用的函数，不仅方便我们使用，同时速度上比我们自己实现的更快，稳定性更好\n",
        "\n",
        "通过导入 `torch.nn.functional` 来使用，下面就是使用方法"
      ]
    },
    {
      "cell_type": "code",
      "metadata": {
        "collapsed": true,
        "id": "Kar6vGx9hG0y"
      },
      "source": [
        "import torch.nn.functional as F"
      ],
      "execution_count": 16,
      "outputs": []
    },
    {
      "cell_type": "code",
      "metadata": {
        "id": "fuLXg0EDhG0y"
      },
      "source": [
        "# 定义 logistic 回归模型\n",
        "w = Variable(torch.randn(2, 1), requires_grad=True) \n",
        "b = Variable(torch.zeros(1), requires_grad=True)\n",
        "\n",
        "def logistic_regression(x):\n",
        "    return torch.sigmoid(torch.mm(x, w) + b)"
      ],
      "execution_count": 22,
      "outputs": []
    },
    {
      "cell_type": "markdown",
      "metadata": {
        "id": "IJO4cwYwhG0z"
      },
      "source": [
        "在更新之前，我们可以画出分类的效果"
      ]
    },
    {
      "cell_type": "code",
      "metadata": {
        "id": "jbVj2wX5hG0z",
        "outputId": "00787b5e-4390-459f-bee7-8955eab704e9",
        "colab": {
          "base_uri": "https://localhost:8080/",
          "height": 282
        }
      },
      "source": [
        "# 画出参数更新之前的结果\n",
        "w0 = w[0].data[0]\n",
        "w1 = w[1].data[0]\n",
        "b0 = b.data[0]\n",
        "\n",
        "plot_x = np.arange(0.2, 1, 0.01)\n",
        "plot_y = (-w0 * plot_x - b0) / w1\n",
        "\n",
        "plt.plot(plot_x, plot_y, 'g', label='cutting line')\n",
        "plt.plot(plot_x0, plot_y0, 'ro', label='x_0')\n",
        "plt.plot(plot_x1, plot_y1, 'bo', label='x_1')\n",
        "plt.legend(loc='best')"
      ],
      "execution_count": 18,
      "outputs": [
        {
          "output_type": "execute_result",
          "data": {
            "text/plain": [
              "<matplotlib.legend.Legend at 0x7fbadad53438>"
            ]
          },
          "metadata": {
            "tags": []
          },
          "execution_count": 18
        },
        {
          "output_type": "display_data",
          "data": {
            "image/png": "[encoded data removed]",
            "text/plain": [
              "<Figure size 432x288 with 1 Axes>"
            ]
          },
          "metadata": {
            "tags": [],
            "needs_background": "light"
          }
        }
      ]
    },
    {
      "cell_type": "markdown",
      "metadata": {
        "id": "sVRUeXoFhG0z"
      },
      "source": [
        "可以看到分类效果基本是混乱的，我们来计算一下 loss，公式如下\n",
        "\n",
        "$$\n",
        "loss = -(y * log(\\hat{y}) + (1 - y) * log(1 - \\hat{y}))\n",
        "$$"
      ]
    },
    {
      "cell_type": "code",
      "metadata": {
        "collapsed": true,
        "id": "jLNYyLSYhG0z"
      },
      "source": [
        "# 计算loss\n",
        "def binary_loss(y_pred, y):\n",
        "    logits = (y * y_pred.clamp(1e-12).log() + (1 - y) * (1 - y_pred).clamp(1e-12).log()).mean()\n",
        "    return -logits"
      ],
      "execution_count": 23,
      "outputs": []
    },
    {
      "cell_type": "markdown",
      "metadata": {
        "id": "W4dnv_OyhG0z"
      },
      "source": [
        "注意到其中使用 `.clamp`，这是[文档](http://pytorch.org/docs/0.3.0/torch.html?highlight=clamp#torch.clamp)的内容，查看一下，并且思考一下这里是否一定要使用这个函数，如果不使用会出现什么样的结果\n",
        "\n",
        "**提示：查看一个 log 函数的图像**"
      ]
    },
    {
      "cell_type": "code",
      "metadata": {
        "id": "4H9NFy9xhG00",
        "outputId": "8f4462b3-eaa1-4833-b774-04f6d43b281f",
        "colab": {
          "base_uri": "https://localhost:8080/"
        }
      },
      "source": [
        "y_pred = logistic_regression(x_data)\n",
        "loss = binary_loss(y_pred, y_data)\n",
        "print(loss)"
      ],
      "execution_count": 24,
      "outputs": [
        {
          "output_type": "stream",
          "text": [
            "tensor(0.6694, grad_fn=<NegBackward>)\n"
          ],
          "name": "stdout"
        }
      ]
    },
    {
      "cell_type": "markdown",
      "metadata": {
        "id": "du-a4hs_hG00"
      },
      "source": [
        "得到 loss 之后，我们还是使用梯度下降法更新参数，这里可以使用自动求导来直接得到参数的导数，感兴趣的同学可以去手动推导一下导数的公式"
      ]
    },
    {
      "cell_type": "code",
      "metadata": {
        "id": "2uTXE315hG00",
        "outputId": "ce95fc11-4b72-40f8-bcce-7ff4fb3c7855",
        "colab": {
          "base_uri": "https://localhost:8080/"
        }
      },
      "source": [
        "# 自动求导并更新参数\n",
        "loss.backward()\n",
        "w.data = w.data - 0.1 * w.grad.data\n",
        "b.data = b.data - 0.1 * b.grad.data\n",
        "\n",
        "# 算出一次更新之后的loss\n",
        "y_pred = logistic_regression(x_data)\n",
        "loss = binary_loss(y_pred, y_data)\n",
        "print(loss)"
      ],
      "execution_count": 25,
      "outputs": [
        {
          "output_type": "stream",
          "text": [
            "tensor(0.6689, grad_fn=<NegBackward>)\n"
          ],
          "name": "stdout"
        }
      ]
    },
    {
      "cell_type": "markdown",
      "metadata": {
        "id": "aEBEN7I3hG00"
      },
      "source": [
        "上面的参数更新方式其实是繁琐的重复操作，如果我们的参数很多，比如有 100 个，那么我们需要写 100 行来更新参数，为了方便，我们可以写成一个函数来更新，其实 PyTorch 已经为我们封装了一个函数来做这件事，这就是 PyTorch 中的优化器 `torch.optim`\n",
        "\n",
        "使用 `torch.optim` 需要另外一个数据类型，就是 `nn.Parameter`，这个本质上和 Variable 是一样的，只不过 `nn.Parameter` 默认是要求梯度的，而 Variable 默认是不求梯度的\n",
        "\n",
        "使用 `torch.optim.SGD` 可以使用梯度下降法来更新参数，PyTorch 中的优化器有更多的优化算法，在本章后面的课程我们会更加详细的介绍\n",
        "\n",
        "将参数 w 和 b 放到 `torch.optim.SGD` 中之后，说明一下学习率的大小，就可以使用 `optimizer.step()` 来更新参数了，比如下面我们将参数传入优化器，学习率设置为 1.0"
      ]
    },
    {
      "cell_type": "code",
      "metadata": {
        "id": "kfCkWrIKhG00"
      },
      "source": [
        "# 使用 torch.optim 更新参数\n",
        "from torch import nn\n",
        "w = nn.Parameter(torch.randn(2, 1))\n",
        "b = nn.Parameter(torch.zeros(1))\n",
        "\n",
        "def logistic_regression(x):\n",
        "    return torch.sigmoid(torch.mm(x, w) + b)\n",
        "\n",
        "optimizer = torch.optim.SGD([w, b], lr=1.)"
      ],
      "execution_count": 26,
      "outputs": []
    },
    {
      "cell_type": "code",
      "metadata": {
        "id": "AQ15WAqqhG01",
        "outputId": "6b140928-488d-4fd0-cd90-0a0fa094a10a",
        "colab": {
          "base_uri": "https://localhost:8080/"
        }
      },
      "source": [
        "# 进行 1000 次更新\n",
        "import time\n",
        "\n",
        "start = time.time()\n",
        "for e in range(1000):\n",
        "    # 前向传播\n",
        "    y_pred = logistic_regression(x_data)\n",
        "    loss = binary_loss(y_pred, y_data) # 计算 loss\n",
        "    # 反向传播\n",
        "    optimizer.zero_grad() # 使用优化器将梯度归 0\n",
        "    loss.backward()\n",
        "    optimizer.step() # 使用优化器来更新参数\n",
        "    # 计算正确率\n",
        "    mask = y_pred.ge(0.5).float()\n",
        "    acc = (mask == y_data).sum().item() / y_data.shape[0]\n",
        "    if (e + 1) % 200 == 0:\n",
        "        print('epoch: {}, Loss: {:.5f}, Acc: {:.5f}'.format(e+1, loss.item(), acc))\n",
        "during = time.time() - start\n",
        "print()\n",
        "print('During Time: {:.3f} s'.format(during))"
      ],
      "execution_count": 28,
      "outputs": [
        {
          "output_type": "stream",
          "text": [
            "epoch: 200, Loss: 0.39483, Acc: 0.91000\n",
            "epoch: 400, Loss: 0.32384, Acc: 0.92000\n",
            "epoch: 600, Loss: 0.29026, Acc: 0.91000\n",
            "epoch: 800, Loss: 0.27053, Acc: 0.91000\n",
            "epoch: 1000, Loss: 0.25748, Acc: 0.90000\n",
            "\n",
            "During Time: 0.540 s\n"
          ],
          "name": "stdout"
        }
      ]
    },
    {
      "cell_type": "markdown",
      "metadata": {
        "id": "Y1euufsjhG01"
      },
      "source": [
        "可以看到使用优化器之后更新参数非常简单，只需要在自动求导之前使用**`optimizer.zero_grad()`** 来归 0 梯度，然后使用 **`optimizer.step()`**来更新参数就可以了，非常简便\n",
        "\n",
        "同时经过了 1000 次更新，loss 也降得比较低了"
      ]
    },
    {
      "cell_type": "markdown",
      "metadata": {
        "id": "3HYvCFx_hG01"
      },
      "source": [
        "下面我们画出更新之后的结果"
      ]
    },
    {
      "cell_type": "code",
      "metadata": {
        "id": "WJlhmaN9hG01",
        "outputId": "f3addb22-fb19-47c3-af99-c137c930e635",
        "colab": {
          "base_uri": "https://localhost:8080/",
          "height": 282
        }
      },
      "source": [
        "# 画出更新之后的结果\n",
        "w0 = w[0].data[0]\n",
        "w1 = w[1].data[0]\n",
        "b0 = b.data[0]\n",
        "\n",
        "plot_x = np.arange(0.2, 1, 0.01)\n",
        "plot_y = (-w0 * plot_x - b0) / w1\n",
        "\n",
        "plt.plot(plot_x, plot_y, 'g', label='cutting line')\n",
        "plt.plot(plot_x0, plot_y0, 'ro', label='x_0')\n",
        "plt.plot(plot_x1, plot_y1, 'bo', label='x_1')\n",
        "plt.legend(loc='best')"
      ],
      "execution_count": 29,
      "outputs": [
        {
          "output_type": "execute_result",
          "data": {
            "text/plain": [
              "<matplotlib.legend.Legend at 0x7fbada287e10>"
            ]
          },
          "metadata": {
            "tags": []
          },
          "execution_count": 29
        },
        {
          "output_type": "display_data",
          "data": {
            "image/png": "[encoded data removed]",
            "text/plain": [
              "<Figure size 432x288 with 1 Axes>"
            ]
          },
          "metadata": {
            "tags": [],
            "needs_background": "light"
          }
        }
      ]
    },
    {
      "cell_type": "markdown",
      "metadata": {
        "id": "16J_R_7whG01"
      },
      "source": [
        "可以看到更新之后模型已经能够基本将这两类点分开了"
      ]
    },
    {
      "cell_type": "markdown",
      "metadata": {
        "id": "alTL4kpHhG02"
      },
      "source": [
        "前面我们使用了自己写的 loss，其实 PyTorch 已经为我们写好了一些常见的 loss，比如线性回归里面的 loss 是 `nn.MSE()`，而 Logistic 回归的二分类 loss 在 PyTorch 中是 `nn.BCEWithLogitsLoss()`，关于更多的 loss，可以查看[文档](http://pytorch.org/docs/0.3.0/nn.html#loss-functions)\n",
        "\n",
        "PyTorch 为我们实现的 loss 函数有两个好处，第一是方便我们使用，不需要重复造轮子，第二就是其实现是在底层 C++ 语言上的，所以速度上和稳定性上都要比我们自己实现的要好\n",
        "\n",
        "另外，PyTorch 出于稳定性考虑，将模型的 Sigmoid 操作和最后的 loss 都合在了 `nn.BCEWithLogitsLoss()`，所以我们使用 PyTorch 自带的 loss 就不需要再加上 Sigmoid 操作了"
      ]
    },
    {
      "cell_type": "code",
      "metadata": {
        "collapsed": true,
        "id": "_jO5sgg5hG02"
      },
      "source": [
        "# 使用自带的loss\n",
        "criterion = nn.BCEWithLogitsLoss() # 将 sigmoid 和 loss 写在一层，有更快的速度、更好的稳定性\n",
        "\n",
        "w = nn.Parameter(torch.randn(2, 1))\n",
        "b = nn.Parameter(torch.zeros(1))\n",
        "\n",
        "def logistic_reg(x):\n",
        "    return torch.sigmoid(torch.mm(x, w) + b)\n",
        "\n",
        "optimizer = torch.optim.SGD([w, b], 1.)"
      ],
      "execution_count": 36,
      "outputs": []
    },
    {
      "cell_type": "code",
      "metadata": {
        "id": "Wwoe8l5FhG02",
        "outputId": "ebe0bdd4-d983-4ff7-f818-bb6626956f50",
        "colab": {
          "base_uri": "https://localhost:8080/"
        }
      },
      "source": [
        "y_pred = logistic_reg(x_data)\n",
        "loss = criterion(y_pred, y_data)\n",
        "print(loss.data)"
      ],
      "execution_count": 37,
      "outputs": [
        {
          "output_type": "stream",
          "text": [
            "tensor(0.6698)\n"
          ],
          "name": "stdout"
        }
      ]
    },
    {
      "cell_type": "code",
      "metadata": {
        "id": "MSQwNCTvhG02",
        "outputId": "37291d39-a4da-46e7-8dde-db3f37c9e977",
        "colab": {
          "base_uri": "https://localhost:8080/"
        }
      },
      "source": [
        "# 同样进行 1000 次更新\n",
        "\n",
        "start = time.time()\n",
        "for e in range(1000):\n",
        "    # 前向传播\n",
        "    y_pred = logistic_reg(x_data)\n",
        "    loss = criterion(y_pred, y_data)\n",
        "    # 反向传播\n",
        "    optimizer.zero_grad()\n",
        "    loss.backward()\n",
        "    optimizer.step()\n",
        "    # 计算正确率\n",
        "    mask = y_pred.ge(0.5).float()\n",
        "    acc = (mask == y_data).sum().item() / y_data.shape[0]\n",
        "    if (e + 1) % 200 == 0:\n",
        "        print('epoch: {}, Loss: {:.5f}, Acc: {:.5f}'.format(e+1, loss.item(), acc))\n",
        "\n",
        "during = time.time() - start\n",
        "print()\n",
        "print('During Time: {:.3f} s'.format(during))"
      ],
      "execution_count": 38,
      "outputs": [
        {
          "output_type": "stream",
          "text": [
            "epoch: 200, Loss: 0.63872, Acc: 0.89000\n",
            "epoch: 400, Loss: 0.61587, Acc: 0.89000\n",
            "epoch: 600, Loss: 0.59965, Acc: 0.89000\n",
            "epoch: 800, Loss: 0.58798, Acc: 0.87000\n",
            "epoch: 1000, Loss: 0.57929, Acc: 0.88000\n",
            "\n",
            "During Time: 0.403 s\n"
          ],
          "name": "stdout"
        }
      ]
    },
    {
      "cell_type": "code",
      "metadata": {
        "id": "kA2pzgyDzHM_",
        "outputId": "f23dbb05-9875-4702-c16f-fe5f8e68ebf1",
        "colab": {
          "base_uri": "https://localhost:8080/",
          "height": 282
        }
      },
      "source": [
        "w0 = w[0].data[0]\r\n",
        "w1 = w[1].data[0]\r\n",
        "b0 = b.data[0]\r\n",
        "\r\n",
        "plot_x = np.arange(0.2, 1, 0.01)\r\n",
        "plot_y = (-w0 * plot_x - b0) / w1\r\n",
        "\r\n",
        "plt.plot(plot_x, plot_y, 'g', label='cutting line')\r\n",
        "plt.plot(plot_x0, plot_y0, 'ro', label='x_0')\r\n",
        "plt.plot(plot_x1, plot_y1, 'bo', label='x_1')\r\n",
        "plt.legend(loc='best')"
      ],
      "execution_count": 39,
      "outputs": [
        {
          "output_type": "execute_result",
          "data": {
            "text/plain": [
              "<matplotlib.legend.Legend at 0x7fbada1da2e8>"
            ]
          },
          "metadata": {
            "tags": []
          },
          "execution_count": 39
        },
        {
          "output_type": "display_data",
          "data": {
            "image/png": "[encoded data removed]",
            "text/plain": [
              "<Figure size 432x288 with 1 Axes>"
            ]
          },
          "metadata": {
            "tags": [],
            "needs_background": "light"
          }
        }
      ]
    },
    {
      "cell_type": "markdown",
      "metadata": {
        "id": "F2osuorShG02"
      },
      "source": [
        "可以看到，使用了 PyTorch 自带的 loss 之后，速度有了一定的上升，虽然看上去速度的提升并不多，但是这只是一个小网络，对于大网络，使用自带的 loss 不管对于稳定性还是速度而言，都有质的飞跃，同时也避免了重复造轮子的困扰"
      ]
    },
    {
      "cell_type": "markdown",
      "metadata": {
        "id": "nbeMK7V6hG03"
      },
      "source": [
        "下一节课我们会介绍 PyTorch 中构建模型的模块 `Sequential` 和 `Module`，使用这个可以帮助我们更方便地构建模型"
      ]
    }
  ]
}