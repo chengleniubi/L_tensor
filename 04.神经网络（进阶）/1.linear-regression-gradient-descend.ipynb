{
  "nbformat": 4,
  "nbformat_minor": 0,
  "metadata": {
    "kernelspec": {
      "display_name": "Python 3",
      "language": "python",
      "name": "python3"
    },
    "language_info": {
      "codemirror_mode": {
        "name": "ipython",
        "version": 3
      },
      "file_extension": ".py",
      "mimetype": "text/x-python",
      "name": "python",
      "nbconvert_exporter": "python",
      "pygments_lexer": "ipython3",
      "version": "3.6.4"
    },
    "colab": {
      "name": "1.linear-regression-gradient-descend.ipynb",
      "provenance": [],
      "include_colab_link": true
    }
  },
  "cells": [
    {
      "cell_type": "markdown",
      "metadata": {
        "id": "view-in-github",
        "colab_type": "text"
      },
      "source": [
        "<a href=\"https://colab.research.google.com/github/chengleniubi/L_tensor/blob/main/04.%E7%A5%9E%E7%BB%8F%E7%BD%91%E7%BB%9C%EF%BC%88%E8%BF%9B%E9%98%B6%EF%BC%89/1.linear-regression-gradient-descend.ipynb\" target=\"_parent\"><img src=\"https://colab.research.google.com/assets/colab-badge.svg\" alt=\"Open In Colab\"/></a>"
      ]
    },
    {
      "cell_type": "markdown",
      "metadata": {
        "id": "oq3B1Tbs5sgf"
      },
      "source": [
        "# 线性模型和梯度下降\n",
        "这是神经网络的第一课，我们会学习一个非常简单的模型，线性回归，同时也会学习一个优化算法-梯度下降法，对这个模型进行优化。线性回归是监督学习里面一个非常简单的模型，同时梯度下降也是深度学习中应用最广的优化算法，我们将从这里开始我们的深度学习之旅"
      ]
    },
    {
      "cell_type": "code",
      "metadata": {
        "id": "Q0NDYv_G5sgk"
      },
      "source": [
        "import torch\n",
        "import numpy as np\n",
        "from torch.autograd import Variable\n",
        "\n",
        "#torch.manual_seed(2017)\n",
        "torch.cuda.manual_seed(2017)"
      ],
      "execution_count": 11,
      "outputs": []
    },
    {
      "cell_type": "code",
      "metadata": {
        "collapsed": true,
        "id": "_EKxa7oY5sgl"
      },
      "source": [
        "# 读入数据 x 和 y\n",
        "x_train = np.array([[3.3], [4.4], [5.5], [6.71], [6.93], [4.168],\n",
        "                    [9.779], [6.182], [7.59], [2.167], [7.042],\n",
        "                    [10.791], [5.313], [7.997], [3.1]], dtype=np.float32)\n",
        "\n",
        "y_train = np.array([[1.7], [2.76], [2.09], [3.19], [1.694], [1.573],\n",
        "                    [3.366], [2.596], [2.53], [1.221], [2.827],\n",
        "                    [3.465], [1.65], [2.904], [1.3]], dtype=np.float32)"
      ],
      "execution_count": 12,
      "outputs": []
    },
    {
      "cell_type": "code",
      "metadata": {
        "id": "W5heukrj5sgl",
        "outputId": "c610089a-a144-42c1-8fc8-fe6a76698cf8",
        "colab": {
          "base_uri": "https://localhost:8080/",
          "height": 282
        }
      },
      "source": [
        "# 画出图像\n",
        "import matplotlib.pyplot as plt\n",
        "%matplotlib inline\n",
        "\n",
        "plt.plot(x_train, y_train, 'bo')"
      ],
      "execution_count": 13,
      "outputs": [
        {
          "output_type": "execute_result",
          "data": {
            "text/plain": [
              "[<matplotlib.lines.Line2D at 0x7f9fa00bac18>]"
            ]
          },
          "metadata": {
            "tags": []
          },
          "execution_count": 13
        },
        {
          "output_type": "display_data",
          "data": {
            "image/png": "[encoded data removed]",
            "text/plain": [
              "<Figure size 432x288 with 1 Axes>"
            ]
          },
          "metadata": {
            "tags": [],
            "needs_background": "light"
          }
        }
      ]
    },
    {
      "cell_type": "code",
      "metadata": {
        "collapsed": true,
        "id": "92Li0v3Q5sgm"
      },
      "source": [
        "# 转换成 Tensor\n",
        "x_train = torch.from_numpy(x_train)\n",
        "y_train = torch.from_numpy(y_train)\n",
        "\n",
        "# 定义参数 w 和 b\n",
        "w = Variable(torch.randn(1), requires_grad=True) # 随机初始化\n",
        "b = Variable(torch.zeros(1), requires_grad=True) # 使用 0 进行初始化"
      ],
      "execution_count": 14,
      "outputs": []
    },
    {
      "cell_type": "code",
      "metadata": {
        "collapsed": true,
        "id": "KmC1vFzx5sgm"
      },
      "source": [
        "# 构建线性回归模型\n",
        "x_train = Variable(x_train)\n",
        "y_train = Variable(y_train)\n",
        "\n",
        "def linear_model(x):\n",
        "    return x * w + b"
      ],
      "execution_count": 15,
      "outputs": []
    },
    {
      "cell_type": "code",
      "metadata": {
        "collapsed": true,
        "id": "VJEZUXmB5sgm"
      },
      "source": [
        "y_ = linear_model(x_train)"
      ],
      "execution_count": 16,
      "outputs": []
    },
    {
      "cell_type": "markdown",
      "metadata": {
        "id": "BJUoH7wZ5sgm"
      },
      "source": [
        "经过上面的步骤我们就定义好了模型，在进行参数更新之前，我们可以先看看模型的输出结果长什么样"
      ]
    },
    {
      "cell_type": "code",
      "metadata": {
        "id": "S5iLwqcB5sgm",
        "outputId": "15e0c425-01bc-4e41-9c8d-0ae120bcae6c",
        "colab": {
          "base_uri": "https://localhost:8080/",
          "height": 283
        }
      },
      "source": [
        "plt.plot(x_train.data.numpy(), y_train.data.numpy(), 'bo', label='real')\n",
        "plt.plot(x_train.data.numpy(), y_.data.numpy(), 'ro', label='estimated')\n",
        "plt.legend()"
      ],
      "execution_count": 17,
      "outputs": [
        {
          "output_type": "execute_result",
          "data": {
            "text/plain": [
              "<matplotlib.legend.Legend at 0x7f9fa0132cf8>"
            ]
          },
          "metadata": {
            "tags": []
          },
          "execution_count": 17
        },
        {
          "output_type": "display_data",
          "data": {
            "image/png": "[encoded data removed]",
            "text/plain": [
              "<Figure size 432x288 with 1 Axes>"
            ]
          },
          "metadata": {
            "tags": [],
            "needs_background": "light"
          }
        }
      ]
    },
    {
      "cell_type": "markdown",
      "metadata": {
        "id": "vUFEinuC5sgn"
      },
      "source": [
        "**思考：红色的点表示预测值，似乎排列成一条直线，请思考一下这些点是否在一条直线上？**"
      ]
    },
    {
      "cell_type": "markdown",
      "metadata": {
        "id": "mWXX7lMb5sgn"
      },
      "source": [
        "这个时候需要计算我们的误差函数，也就是\n",
        "\n",
        "$$\n",
        "\\frac{1}{n} \\sum_{i=1}^n(\\hat{y}_i - y_i)^2\n",
        "$$"
      ]
    },
    {
      "cell_type": "code",
      "metadata": {
        "collapsed": true,
        "id": "I1mSppmg5sgn"
      },
      "source": [
        "# 计算误差\n",
        "def get_loss(y_, y):\n",
        "    return torch.mean((y_ - y_train) ** 2)\n",
        "\n",
        "loss = get_loss(y_, y_train)"
      ],
      "execution_count": 18,
      "outputs": []
    },
    {
      "cell_type": "code",
      "metadata": {
        "id": "wHm27sMQ5sgn",
        "outputId": "66da488b-58cd-4d46-8a08-e6e5bfc9dcac",
        "colab": {
          "base_uri": "https://localhost:8080/"
        }
      },
      "source": [
        "# 打印一下看看 loss 的大小\n",
        "print(loss)"
      ],
      "execution_count": 19,
      "outputs": [
        {
          "output_type": "stream",
          "text": [
            "tensor(94.9309, grad_fn=<MeanBackward0>)\n"
          ],
          "name": "stdout"
        }
      ]
    },
    {
      "cell_type": "markdown",
      "metadata": {
        "id": "i1OjIiUp5sgo"
      },
      "source": [
        "定义好了误差函数，接下来我们需要计算 w 和 b 的梯度了，这时得益于 PyTorch 的自动求导，我们不需要手动去算梯度，有兴趣的同学可以手动计算一下，w 和 b 的梯度分别是\n",
        "\n",
        "$$\n",
        "\\frac{\\partial}{\\partial w} = \\frac{2}{n} \\sum_{i=1}^n x_i(w x_i + b - y_i) \\\\\n",
        "\\frac{\\partial}{\\partial b} = \\frac{2}{n} \\sum_{i=1}^n (w x_i + b - y_i)\n",
        "$$"
      ]
    },
    {
      "cell_type": "code",
      "metadata": {
        "collapsed": true,
        "id": "V0RE104K5sgo"
      },
      "source": [
        "# 自动求导\n",
        "loss.backward()"
      ],
      "execution_count": 20,
      "outputs": []
    },
    {
      "cell_type": "code",
      "metadata": {
        "id": "5IZS8vdn5sgo",
        "outputId": "27c88c5f-55ba-45ab-9aa0-fff8540b513f",
        "colab": {
          "base_uri": "https://localhost:8080/"
        }
      },
      "source": [
        "# 查看 w 和 b 的梯度\n",
        "print(w.grad)\n",
        "print(w.grad.data)\n",
        "print(b.grad)"
      ],
      "execution_count": 23,
      "outputs": [
        {
          "output_type": "stream",
          "text": [
            "tensor([-126.6150])\n",
            "tensor([-126.6150])\n",
            "tensor([-18.3376])\n"
          ],
          "name": "stdout"
        }
      ]
    },
    {
      "cell_type": "code",
      "metadata": {
        "collapsed": true,
        "id": "dfPQQm9U5sgo"
      },
      "source": [
        "# 更新一次参数\n",
        "w.data = w.data - 1e-2 * w.grad.data\n",
        "b.data = b.data - 1e-2 * b.grad.data"
      ],
      "execution_count": 24,
      "outputs": []
    },
    {
      "cell_type": "markdown",
      "metadata": {
        "id": "Yi8D0-oY5sgo"
      },
      "source": [
        "更新完成参数之后，我们再一次看看模型输出的结果"
      ]
    },
    {
      "cell_type": "code",
      "metadata": {
        "id": "xhwcYQbn5sgo",
        "outputId": "e4c6cea2-ce6a-4e80-f705-14a72872fdd5",
        "colab": {
          "base_uri": "https://localhost:8080/",
          "height": 282
        }
      },
      "source": [
        "y_ = linear_model(x_train)\n",
        "plt.plot(x_train.data.numpy(), y_train.data.numpy(), 'bo', label='real')\n",
        "plt.plot(x_train.data.numpy(), y_.data.numpy(), 'ro', label='estimated')\n",
        "plt.legend()"
      ],
      "execution_count": 25,
      "outputs": [
        {
          "output_type": "execute_result",
          "data": {
            "text/plain": [
              "<matplotlib.legend.Legend at 0x7f9f9f7b8278>"
            ]
          },
          "metadata": {
            "tags": []
          },
          "execution_count": 25
        },
        {
          "output_type": "display_data",
          "data": {
            "image/png": "[encoded data removed]",
            "text/plain": [
              "<Figure size 432x288 with 1 Axes>"
            ]
          },
          "metadata": {
            "tags": [],
            "needs_background": "light"
          }
        }
      ]
    },
    {
      "cell_type": "markdown",
      "metadata": {
        "id": "ittkFN3R5sgp"
      },
      "source": [
        "从上面的例子可以看到，更新之后红色的线跑到了蓝色的线下面，没有特别好的拟合蓝色的真实值，所以我们需要在进行几次更新"
      ]
    },
    {
      "cell_type": "code",
      "metadata": {
        "id": "yJ-enddL5sgp",
        "outputId": "eb832db2-0ce2-4f05-82c8-453c9450611e",
        "colab": {
          "base_uri": "https://localhost:8080/"
        }
      },
      "source": [
        "for e in range(10): # 进行 10 次更新\n",
        "    y_ = linear_model(x_train)\n",
        "    loss = get_loss(y_, y_train)\n",
        "    \n",
        "    w.grad.zero_() # 记得归零梯度\n",
        "    b.grad.zero_() # 记得归零梯度\n",
        "    loss.backward()\n",
        "    \n",
        "    w.data = w.data - 1e-2 * w.grad.data # 更新 w\n",
        "    b.data = b.data - 1e-2 * b.grad.data # 更新 b \n",
        "    print('epoch: {}, loss: {}'.format(e, loss.item()))"
      ],
      "execution_count": 27,
      "outputs": [
        {
          "output_type": "stream",
          "text": [
            "epoch: 0, loss: 0.2387673556804657\n",
            "epoch: 1, loss: 0.20673297345638275\n",
            "epoch: 2, loss: 0.20595277845859528\n",
            "epoch: 3, loss: 0.20575189590454102\n",
            "epoch: 4, loss: 0.2055628001689911\n",
            "epoch: 5, loss: 0.20537473261356354\n",
            "epoch: 6, loss: 0.20518773794174194\n",
            "epoch: 7, loss: 0.20500163733959198\n",
            "epoch: 8, loss: 0.20481650531291962\n",
            "epoch: 9, loss: 0.20463234186172485\n"
          ],
          "name": "stdout"
        }
      ]
    },
    {
      "cell_type": "code",
      "metadata": {
        "id": "tHd5rO605sgp",
        "outputId": "e1751fa1-e056-4936-915c-c59636816da9",
        "colab": {
          "base_uri": "https://localhost:8080/",
          "height": 282
        }
      },
      "source": [
        "y_ = linear_model(x_train)\n",
        "plt.plot(x_train.data.numpy(), y_train.data.numpy(), 'bo', label='real')\n",
        "plt.plot(x_train.data.numpy(), y_.data.numpy(), 'ro', label='estimated')\n",
        "plt.legend()"
      ],
      "execution_count": 28,
      "outputs": [
        {
          "output_type": "execute_result",
          "data": {
            "text/plain": [
              "<matplotlib.legend.Legend at 0x7f9f9f6ecb00>"
            ]
          },
          "metadata": {
            "tags": []
          },
          "execution_count": 28
        },
        {
          "output_type": "display_data",
          "data": {
            "image/png": "[encoded data removed]",
            "text/plain": [
              "<Figure size 432x288 with 1 Axes>"
            ]
          },
          "metadata": {
            "tags": [],
            "needs_background": "light"
          }
        }
      ]
    },
    {
      "cell_type": "markdown",
      "metadata": {
        "id": "ODZEQ9zk5sgp"
      },
      "source": [
        "经过 10 次更新，我们发现红色的预测结果已经比较好的拟合了蓝色的真实值。\n",
        "\n",
        "现在你已经学会了你的第一个机器学习模型了，再接再厉，完成下面的小练习。"
      ]
    },
    {
      "cell_type": "markdown",
      "metadata": {
        "id": "44eFKloJ5sgq"
      },
      "source": [
        "**小练习：**\n",
        "\n",
        "重启 notebook 运行上面的线性回归模型，但是改变训练次数以及不同的学习率进行尝试得到不同的结果"
      ]
    },
    {
      "cell_type": "markdown",
      "metadata": {
        "id": "88rqugkp5sgq"
      },
      "source": [
        "## 多项式回归模型\n",
        "\n",
        "下面我们更进一步，讲一讲多项式回归。"
      ]
    },
    {
      "cell_type": "markdown",
      "metadata": {
        "id": "iz_0ddRL5sgq"
      },
      "source": [
        "首先我们可以先定义一个需要拟合的目标函数，这个函数是个三次的多项式"
      ]
    },
    {
      "cell_type": "code",
      "metadata": {
        "id": "T41YSDP45sgq",
        "outputId": "6cb8c440-57fc-47b7-c47a-7d40c7ad79f8",
        "colab": {
          "base_uri": "https://localhost:8080/"
        }
      },
      "source": [
        "# 定义一个多变量函数\n",
        "\n",
        "w_target = np.array([0.5, 3, 2.4]) # 定义参数\n",
        "b_target = np.array([0.9]) # 定义参数\n",
        "\n",
        "f_des = 'y = {:.2f} + {:.2f} * x + {:.2f} * x^2 + {:.2f} * x^3'.format(\n",
        "    b_target[0], w_target[0], w_target[1], w_target[2]) # 打印出函数的式子\n",
        "\n",
        "print(f_des)\n",
        "print(w_target)"
      ],
      "execution_count": 32,
      "outputs": [
        {
          "output_type": "stream",
          "text": [
            "y = 0.90 + 0.50 * x + 3.00 * x^2 + 2.40 * x^3\n",
            "[0.5 3.  2.4]\n"
          ],
          "name": "stdout"
        }
      ]
    },
    {
      "cell_type": "markdown",
      "metadata": {
        "id": "GMWrjM3j5sgq"
      },
      "source": [
        "我们可以先画出这个多项式的图像"
      ]
    },
    {
      "cell_type": "code",
      "metadata": {
        "id": "J90CPdaz5sgq",
        "outputId": "e079e43e-da46-4ccd-8115-32eb399cb3aa",
        "colab": {
          "base_uri": "https://localhost:8080/",
          "height": 285
        }
      },
      "source": [
        "# 画出这个函数的曲线\n",
        "x_sample = np.arange(-3, 3.1, 0.1)\n",
        "y_sample = b_target[0] + w_target[0] * x_sample + w_target[1] * x_sample ** 2 + w_target[2] * x_sample ** 3\n",
        "plt.plot(x_sample, y_sample, label='real curve')\n",
        "plt.legend()"
      ],
      "execution_count": 34,
      "outputs": [
        {
          "output_type": "execute_result",
          "data": {
            "text/plain": [
              "<matplotlib.legend.Legend at 0x7f9f9f5bde80>"
            ]
          },
          "metadata": {
            "tags": []
          },
          "execution_count": 34
        },
        {
          "output_type": "display_data",
          "data": {
            "image/png": "[encoded data removed]",
            "text/plain": [
              "<Figure size 432x288 with 1 Axes>"
            ]
          },
          "metadata": {
            "tags": [],
            "needs_background": "light"
          }
        }
      ]
    },
    {
      "cell_type": "markdown",
      "metadata": {
        "id": "q0pLVqy_5sgr"
      },
      "source": [
        "接着我们可以构建数据集，需要 x 和 y，同时是一个三次多项式，所以我们取了 $x,\\ x^2, x^3$"
      ]
    },
    {
      "cell_type": "code",
      "metadata": {
        "collapsed": true,
        "id": "clq2m-Fk5sgr"
      },
      "source": [
        "# 构建数据 x 和 y\n",
        "# x 是一个如下矩阵 [x, x^2, x^3]\n",
        "# y 是函数的结果 [y]\n",
        "\n",
        "x_train = np.stack([x_sample ** i for i in range(1, 4)], axis=1)\n",
        "print(x_train)\n",
        "x_train = torch.from_numpy(x_train).float() # 转换成 float tensor\n",
        "print(x_train)\n",
        "y_train = torch.from_numpy(y_sample).float().unsqueeze(1) # 转化成 float tensor \n",
        "print(x_train)"
      ],
      "execution_count": null,
      "outputs": []
    },
    {
      "cell_type": "markdown",
      "metadata": {
        "id": "QGa2Q1zl5sgr"
      },
      "source": [
        "接着我们可以定义需要优化的参数，就是前面这个函数里面的 $w_i$"
      ]
    },
    {
      "cell_type": "code",
      "metadata": {
        "collapsed": true,
        "id": "2RHX4ol35sgr"
      },
      "source": [
        "# 定义参数和模型\n",
        "w = Variable(torch.randn(3, 1), requires_grad=True)\n",
        "b = Variable(torch.zeros(1), requires_grad=True)\n",
        "print(w)\n",
        "# 将 x 和 y 转换成 Variable\n",
        "x_train = Variable(x_train)\n",
        "y_train = Variable(y_train)\n",
        "\n",
        "def multi_linear(x):\n",
        "    return torch.mm(x, w) + b"
      ],
      "execution_count": 37,
      "outputs": []
    },
    {
      "cell_type": "markdown",
      "metadata": {
        "id": "5R_MaGcX5sgr"
      },
      "source": [
        "我们可以画出没有更新之前的模型和真实的模型之间的对比"
      ]
    },
    {
      "cell_type": "code",
      "metadata": {
        "id": "S-1zQ3Do5sgr",
        "outputId": "0b9e0f62-f455-429b-d57d-1f4ce6428ef9",
        "colab": {
          "base_uri": "https://localhost:8080/",
          "height": 285
        }
      },
      "source": [
        "# 画出更新之前的模型\n",
        "y_pred = multi_linear(x_train)\n",
        "\n",
        "plt.plot(x_train.data.numpy()[:, 0], y_pred.data.numpy(), label='fitting curve', color='r')\n",
        "plt.plot(x_train.data.numpy()[:, 0], y_sample, label='real curve', color='b')\n",
        "plt.legend()"
      ],
      "execution_count": 38,
      "outputs": [
        {
          "output_type": "execute_result",
          "data": {
            "text/plain": [
              "<matplotlib.legend.Legend at 0x7f9f9f4525f8>"
            ]
          },
          "metadata": {
            "tags": []
          },
          "execution_count": 38
        },
        {
          "output_type": "display_data",
          "data": {
            "image/png": "[encoded data removed]",
            "text/plain": [
              "<Figure size 432x288 with 1 Axes>"
            ]
          },
          "metadata": {
            "tags": [],
            "needs_background": "light"
          }
        }
      ]
    },
    {
      "cell_type": "markdown",
      "metadata": {
        "id": "cKPos1bt5sgs"
      },
      "source": [
        "可以发现，这两条曲线之间存在差异，我们计算一下他们之间的误差"
      ]
    },
    {
      "cell_type": "code",
      "metadata": {
        "id": "dIp3kLI05sgs",
        "outputId": "e8327231-75f8-458e-bae8-b8556598349b",
        "colab": {
          "base_uri": "https://localhost:8080/"
        }
      },
      "source": [
        "# 计算误差，这里的误差和一元的线性模型的误差是相同的，前面已经定义过了 get_loss\n",
        "loss = get_loss(y_pred, y_train)\n",
        "print(loss)"
      ],
      "execution_count": 39,
      "outputs": [
        {
          "output_type": "stream",
          "text": [
            "tensor(756.3784, grad_fn=<MeanBackward0>)\n"
          ],
          "name": "stdout"
        }
      ]
    },
    {
      "cell_type": "code",
      "metadata": {
        "collapsed": true,
        "id": "iLcVvxH25sgs"
      },
      "source": [
        "# 自动求导\n",
        "loss.backward()"
      ],
      "execution_count": 40,
      "outputs": []
    },
    {
      "cell_type": "code",
      "metadata": {
        "id": "X_0eagQ55sgs",
        "outputId": "5dbf464b-b963-4ddc-e9eb-8843c1ee6f4e",
        "colab": {
          "base_uri": "https://localhost:8080/"
        }
      },
      "source": [
        "# 查看一下 w 和 b 的梯度\n",
        "print(w.grad)\n",
        "print(b.grad)"
      ],
      "execution_count": 41,
      "outputs": [
        {
          "output_type": "stream",
          "text": [
            "tensor([[ -88.0635],\n",
            "        [ -50.3721],\n",
            "        [-574.2020]])\n",
            "tensor([-9.8301])\n"
          ],
          "name": "stdout"
        }
      ]
    },
    {
      "cell_type": "code",
      "metadata": {
        "collapsed": true,
        "id": "erpUw00p5sgs"
      },
      "source": [
        "# 更新一下参数\n",
        "w.data = w.data - 0.001 * w.grad.data\n",
        "b.data = b.data - 0.001 * b.grad.data"
      ],
      "execution_count": 42,
      "outputs": []
    },
    {
      "cell_type": "code",
      "metadata": {
        "id": "qQFc7Wfe5sgs",
        "outputId": "5100ab0e-9b66-4249-9d43-57eb9ffe56de",
        "colab": {
          "base_uri": "https://localhost:8080/",
          "height": 285
        }
      },
      "source": [
        "# 画出更新一次之后的模型\n",
        "y_pred = multi_linear(x_train)\n",
        "\n",
        "plt.plot(x_train.data.numpy()[:, 0], y_pred.data.numpy(), label='fitting curve', color='r')\n",
        "plt.plot(x_train.data.numpy()[:, 0], y_sample, label='real curve', color='b')\n",
        "plt.legend()"
      ],
      "execution_count": 43,
      "outputs": [
        {
          "output_type": "execute_result",
          "data": {
            "text/plain": [
              "<matplotlib.legend.Legend at 0x7f9f9f3d0080>"
            ]
          },
          "metadata": {
            "tags": []
          },
          "execution_count": 43
        },
        {
          "output_type": "display_data",
          "data": {
            "image/png": "[encoded data removed]",
            "text/plain": [
              "<Figure size 432x288 with 1 Axes>"
            ]
          },
          "metadata": {
            "tags": [],
            "needs_background": "light"
          }
        }
      ]
    },
    {
      "cell_type": "markdown",
      "metadata": {
        "id": "KO9PjYdn5sgt"
      },
      "source": [
        "因为只更新了一次，所以两条曲线之间的差异仍然存在，我们进行 100 次迭代"
      ]
    },
    {
      "cell_type": "code",
      "metadata": {
        "id": "bLwBC26T5sgt",
        "outputId": "958c24f9-bb06-4761-916b-ad09929ac8ef",
        "colab": {
          "base_uri": "https://localhost:8080/"
        }
      },
      "source": [
        "# 进行 100 次参数更新\n",
        "for e in range(100):\n",
        "    y_pred = multi_linear(x_train)\n",
        "    loss = get_loss(y_pred, y_train)\n",
        "    \n",
        "    w.grad.data.zero_()\n",
        "    b.grad.data.zero_()\n",
        "    loss.backward()\n",
        "    \n",
        "    # 更新参数\n",
        "    w.data = w.data - 0.001 * w.grad.data\n",
        "    b.data = b.data - 0.001 * b.grad.data\n",
        "    if (e + 1) % 20 == 0:\n",
        "        print('epoch {}, Loss: {}'.format(e+1 , loss.item()))"
      ],
      "execution_count": 49,
      "outputs": [
        {
          "output_type": "stream",
          "text": [
            "epoch 20, Loss: 0.6435574293136597\n",
            "epoch 40, Loss: 0.6196027398109436\n",
            "epoch 60, Loss: 0.5965829491615295\n",
            "epoch 80, Loss: 0.5744292736053467\n",
            "epoch 100, Loss: 0.5531014800071716\n"
          ],
          "name": "stdout"
        }
      ]
    },
    {
      "cell_type": "markdown",
      "metadata": {
        "id": "1LUJ9PYl5sgt"
      },
      "source": [
        "可以看到更新完成之后 loss 已经非常小了，我们画出更新之后的曲线对比"
      ]
    },
    {
      "cell_type": "code",
      "metadata": {
        "id": "FW4oT17_5sgt",
        "outputId": "6d2f0041-63d2-4896-cccf-8169aceb69d9",
        "colab": {
          "base_uri": "https://localhost:8080/",
          "height": 283
        }
      },
      "source": [
        "# 画出更新之后的结果\n",
        "y_pred = multi_linear(x_train)\n",
        "\n",
        "plt.plot(x_train.data.numpy()[:, 0], y_pred.data.numpy(), label='fitting curve', color='r')\n",
        "plt.plot(x_train.data.numpy()[:, 0], y_sample, label='real curve', color='b')\n",
        "plt.legend()"
      ],
      "execution_count": 50,
      "outputs": [
        {
          "output_type": "execute_result",
          "data": {
            "text/plain": [
              "<matplotlib.legend.Legend at 0x7f9f9f2e0b38>"
            ]
          },
          "metadata": {
            "tags": []
          },
          "execution_count": 50
        },
        {
          "output_type": "display_data",
          "data": {
            "image/png": "[encoded data removed]",
            "text/plain": [
              "<Figure size 432x288 with 1 Axes>"
            ]
          },
          "metadata": {
            "tags": [],
            "needs_background": "light"
          }
        }
      ]
    },
    {
      "cell_type": "markdown",
      "metadata": {
        "id": "8FGbCQ7D5sgt"
      },
      "source": [
        "可以看到，经过 100 次更新之后，可以看到拟合的线和真实的线已经完全重合了"
      ]
    },
    {
      "cell_type": "markdown",
      "metadata": {
        "collapsed": true,
        "id": "lLVDdwc45sgt"
      },
      "source": [
        "**小练习：上面的例子是一个三次的多项式，尝试使用二次的多项式去拟合它，看看最后能做到多好**\n",
        "\n",
        "**提示：参数 `w = torch.randn(2, 1)`，同时重新构建 x 数据集**"
      ]
    }
  ]
}