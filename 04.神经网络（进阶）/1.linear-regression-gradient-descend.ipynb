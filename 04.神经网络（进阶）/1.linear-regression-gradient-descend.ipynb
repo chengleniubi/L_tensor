{
  "nbformat": 4,
  "nbformat_minor": 0,
  "metadata": {
    "kernelspec": {
      "display_name": "Python 3",
      "language": "python",
      "name": "python3"
    },
    "language_info": {
      "codemirror_mode": {
        "name": "ipython",
        "version": 3
      },
      "file_extension": ".py",
      "mimetype": "text/x-python",
      "name": "python",
      "nbconvert_exporter": "python",
      "pygments_lexer": "ipython3",
      "version": "3.6.4"
    },
    "colab": {
      "name": "1.linear-regression-gradient-descend.ipynb",
      "provenance": [],
      "include_colab_link": true
    },
    "accelerator": "GPU"
  },
  "cells": [
    {
      "cell_type": "markdown",
      "metadata": {
        "id": "view-in-github",
        "colab_type": "text"
      },
      "source": [
        "<a href=\"https://colab.research.google.com/github/chengleniubi/L_tensor/blob/main/04.%E7%A5%9E%E7%BB%8F%E7%BD%91%E7%BB%9C%EF%BC%88%E8%BF%9B%E9%98%B6%EF%BC%89/1.linear-regression-gradient-descend.ipynb\" target=\"_parent\"><img src=\"https://colab.research.google.com/assets/colab-badge.svg\" alt=\"Open In Colab\"/></a>"
      ]
    },
    {
      "cell_type": "markdown",
      "metadata": {
        "id": "oq3B1Tbs5sgf"
      },
      "source": [
        "# 线性模型和梯度下降\n",
        "这是神经网络的第一课，我们会学习一个非常简单的模型，线性回归，同时也会学习一个优化算法-梯度下降法，对这个模型进行优化。线性回归是监督学习里面一个非常简单的模型，同时梯度下降也是深度学习中应用最广的优化算法，我们将从这里开始我们的深度学习之旅"
      ]
    },
    {
      "cell_type": "code",
      "metadata": {
        "id": "Q0NDYv_G5sgk"
      },
      "source": [
        "import torch\n",
        "import numpy as np\n",
        "from torch.autograd import Variable\n",
        "\n",
        "#torch.manual_seed(2017)\n",
        "torch.cuda.manual_seed(2017)"
      ],
      "execution_count": 2,
      "outputs": []
    },
    {
      "cell_type": "code",
      "metadata": {
        "collapsed": true,
        "id": "_EKxa7oY5sgl"
      },
      "source": [
        "# 读入数据 x 和 y\n",
        "x_train = np.array([[3.3], [4.4], [5.5], [6.71], [6.93], [4.168],\n",
        "                    [9.779], [6.182], [7.59], [2.167], [7.042],\n",
        "                    [10.791], [5.313], [7.997], [3.1]], dtype=np.float32)\n",
        "\n",
        "y_train = np.array([[1.7], [2.76], [2.09], [3.19], [1.694], [1.573],\n",
        "                    [3.366], [2.596], [2.53], [1.221], [2.827],\n",
        "                    [3.465], [1.65], [2.904], [1.3]], dtype=np.float32)"
      ],
      "execution_count": 9,
      "outputs": []
    },
    {
      "cell_type": "code",
      "metadata": {
        "id": "W5heukrj5sgl",
        "colab": {
          "base_uri": "https://localhost:8080/",
          "height": 282
        },
        "outputId": "3d59e989-23cd-4d95-e878-bb8ee4f9960b"
      },
      "source": [
        "# 画出图像\n",
        "import matplotlib.pyplot as plt\n",
        "%matplotlib inline\n",
        "\n",
        "plt.plot(x_train, y_train, 'bo')"
      ],
      "execution_count": 7,
      "outputs": [
        {
          "output_type": "execute_result",
          "data": {
            "text/plain": [
              "[<matplotlib.lines.Line2D at 0x7fbd93fb3860>]"
            ]
          },
          "metadata": {
            "tags": []
          },
          "execution_count": 7
        },
        {
          "output_type": "display_data",
          "data": {
            "image/png": "[encoded data removed]",
            "text/plain": [
              "<Figure size 432x288 with 1 Axes>"
            ]
          },
          "metadata": {
            "tags": [],
            "needs_background": "light"
          }
        }
      ]
    },
    {
      "cell_type": "code",
      "metadata": {
        "collapsed": true,
        "id": "92Li0v3Q5sgm"
      },
      "source": [
        "# 转换成 Tensor\n",
        "x_train = torch.from_numpy(x_train)\n",
        "y_train = torch.from_numpy(y_train)\n",
        "\n",
        "# 定义参数 w 和 b\n",
        "w = Variable(torch.randn(1), requires_grad=True) # 随机初始化\n",
        "b = Variable(torch.zeros(1), requires_grad=True) # 使用 0 进行初始化"
      ],
      "execution_count": 10,
      "outputs": []
    },
    {
      "cell_type": "code",
      "metadata": {
        "collapsed": true,
        "id": "KmC1vFzx5sgm"
      },
      "source": [
        "# 构建线性回归模型\n",
        "x_train = Variable(x_train)\n",
        "y_train = Variable(y_train)\n",
        "\n",
        "def linear_model(x):\n",
        "    return x * w + b"
      ],
      "execution_count": 11,
      "outputs": []
    },
    {
      "cell_type": "code",
      "metadata": {
        "collapsed": true,
        "id": "VJEZUXmB5sgm"
      },
      "source": [
        "y_ = linear_model(x_train)"
      ],
      "execution_count": 12,
      "outputs": []
    },
    {
      "cell_type": "markdown",
      "metadata": {
        "id": "BJUoH7wZ5sgm"
      },
      "source": [
        "经过上面的步骤我们就定义好了模型，在进行参数更新之前，我们可以先看看模型的输出结果长什么样"
      ]
    },
    {
      "cell_type": "code",
      "metadata": {
        "id": "S5iLwqcB5sgm",
        "colab": {
          "base_uri": "https://localhost:8080/",
          "height": 285
        },
        "outputId": "9bace3c5-ff70-4d65-a6d3-480b4e0a90f3"
      },
      "source": [
        "plt.plot(x_train.data.numpy(), y_train.data.numpy(), 'bo', label='real')\n",
        "plt.plot(x_train.data.numpy(), y_.data.numpy(), 'ro', label='estimated')\n",
        "plt.legend()"
      ],
      "execution_count": 13,
      "outputs": [
        {
          "output_type": "execute_result",
          "data": {
            "text/plain": [
              "<matplotlib.legend.Legend at 0x7fbd93f25898>"
            ]
          },
          "metadata": {
            "tags": []
          },
          "execution_count": 13
        },
        {
          "output_type": "display_data",
          "data": {
            "image/png": "[encoded data removed]",
            "text/plain": [
              "<Figure size 432x288 with 1 Axes>"
            ]
          },
          "metadata": {
            "tags": [],
            "needs_background": "light"
          }
        }
      ]
    },
    {
      "cell_type": "markdown",
      "metadata": {
        "id": "vUFEinuC5sgn"
      },
      "source": [
        "**思考：红色的点表示预测值，似乎排列成一条直线，请思考一下这些点是否在一条直线上？**"
      ]
    },
    {
      "cell_type": "markdown",
      "metadata": {
        "id": "mWXX7lMb5sgn"
      },
      "source": [
        "这个时候需要计算我们的误差函数，也就是\n",
        "\n",
        "$$\n",
        "\\frac{1}{n} \\sum_{i=1}^n(\\hat{y}_i - y_i)^2\n",
        "$$"
      ]
    },
    {
      "cell_type": "code",
      "metadata": {
        "collapsed": true,
        "id": "I1mSppmg5sgn"
      },
      "source": [
        "# 计算误差\n",
        "def get_loss(y_, y):\n",
        "    return torch.mean((y_ - y_train) ** 2)\n",
        "\n",
        "loss = get_loss(y_, y_train)"
      ],
      "execution_count": 14,
      "outputs": []
    },
    {
      "cell_type": "code",
      "metadata": {
        "id": "wHm27sMQ5sgn",
        "colab": {
          "base_uri": "https://localhost:8080/"
        },
        "outputId": "246b0014-4837-4232-9ef1-0ed89e1d9994"
      },
      "source": [
        "# 打印一下看看 loss 的大小\n",
        "print(loss)"
      ],
      "execution_count": 15,
      "outputs": [
        {
          "output_type": "stream",
          "text": [
            "tensor(67.2369, grad_fn=<MeanBackward0>)\n"
          ],
          "name": "stdout"
        }
      ]
    },
    {
      "cell_type": "markdown",
      "metadata": {
        "id": "i1OjIiUp5sgo"
      },
      "source": [
        "定义好了误差函数，接下来我们需要计算 w 和 b 的梯度了，这时得益于 PyTorch 的自动求导，我们不需要手动去算梯度，有兴趣的同学可以手动计算一下，w 和 b 的梯度分别是\n",
        "\n",
        "$$\n",
        "\\frac{\\partial}{\\partial w} = \\frac{2}{n} \\sum_{i=1}^n x_i(w x_i + b - y_i) \\\\\n",
        "\\frac{\\partial}{\\partial b} = \\frac{2}{n} \\sum_{i=1}^n (w x_i + b - y_i)\n",
        "$$"
      ]
    },
    {
      "cell_type": "code",
      "metadata": {
        "collapsed": true,
        "id": "V0RE104K5sgo"
      },
      "source": [
        "# 自动求导\n",
        "loss.backward()"
      ],
      "execution_count": 16,
      "outputs": []
    },
    {
      "cell_type": "code",
      "metadata": {
        "id": "5IZS8vdn5sgo",
        "colab": {
          "base_uri": "https://localhost:8080/"
        },
        "outputId": "c3c47e5e-5c82-4204-bc78-cfa148642365"
      },
      "source": [
        "# 查看 w 和 b 的梯度\n",
        "print(w.grad)\n",
        "print(w.grad.data)\n",
        "print(b.grad)"
      ],
      "execution_count": 17,
      "outputs": [
        {
          "output_type": "stream",
          "text": [
            "tensor([-106.5016])\n",
            "tensor([-106.5016])\n",
            "tensor([-15.4557])\n"
          ],
          "name": "stdout"
        }
      ]
    },
    {
      "cell_type": "code",
      "metadata": {
        "collapsed": true,
        "id": "dfPQQm9U5sgo"
      },
      "source": [
        "# 更新一次参数\n",
        "w.data = w.data - 1e-2 * w.grad.data\n",
        "b.data = b.data - 1e-2 * b.grad.data"
      ],
      "execution_count": 18,
      "outputs": []
    },
    {
      "cell_type": "markdown",
      "metadata": {
        "id": "Yi8D0-oY5sgo"
      },
      "source": [
        "更新完成参数之后，我们再一次看看模型输出的结果"
      ]
    },
    {
      "cell_type": "code",
      "metadata": {
        "id": "xhwcYQbn5sgo",
        "colab": {
          "base_uri": "https://localhost:8080/",
          "height": 282
        },
        "outputId": "213823dc-d872-48b3-daff-72c101abf341"
      },
      "source": [
        "y_ = linear_model(x_train)\n",
        "plt.plot(x_train.data.numpy(), y_train.data.numpy(), 'bo', label='real')\n",
        "plt.plot(x_train.data.numpy(), y_.data.numpy(), 'ro', label='estimated')\n",
        "plt.legend()"
      ],
      "execution_count": 19,
      "outputs": [
        {
          "output_type": "execute_result",
          "data": {
            "text/plain": [
              "<matplotlib.legend.Legend at 0x7fbd8bade390>"
            ]
          },
          "metadata": {
            "tags": []
          },
          "execution_count": 19
        },
        {
          "output_type": "display_data",
          "data": {
            "image/png": "[encoded data removed]",
            "text/plain": [
              "<Figure size 432x288 with 1 Axes>"
            ]
          },
          "metadata": {
            "tags": [],
            "needs_background": "light"
          }
        }
      ]
    },
    {
      "cell_type": "markdown",
      "metadata": {
        "id": "ittkFN3R5sgp"
      },
      "source": [
        "从上面的例子可以看到，更新之后红色的线跑到了蓝色的线下面，没有特别好的拟合蓝色的真实值，所以我们需要在进行几次更新"
      ]
    },
    {
      "cell_type": "code",
      "metadata": {
        "id": "yJ-enddL5sgp",
        "colab": {
          "base_uri": "https://localhost:8080/"
        },
        "outputId": "32c4721d-62da-4aec-ceb5-a52f7cd4b73c"
      },
      "source": [
        "for e in range(10): # 进行 10 次更新\n",
        "    y_ = linear_model(x_train)\n",
        "    loss = get_loss(y_, y_train)\n",
        "    \n",
        "    w.grad.zero_() # 记得归零梯度\n",
        "    b.grad.zero_() # 记得归零梯度\n",
        "    loss.backward()\n",
        "    \n",
        "    w.data = w.data - 1e-2 * w.grad.data # 更新 w\n",
        "    b.data = b.data - 1e-2 * b.grad.data # 更新 b \n",
        "    print('epoch: {}, loss: {}'.format(e, loss.item()))"
      ],
      "execution_count": 20,
      "outputs": [
        {
          "output_type": "stream",
          "text": [
            "epoch: 0, loss: 1.4517693519592285\n",
            "epoch: 1, loss: 0.23408691585063934\n",
            "epoch: 2, loss: 0.21133916079998016\n",
            "epoch: 3, loss: 0.21070672571659088\n",
            "epoch: 4, loss: 0.21048469841480255\n",
            "epoch: 5, loss: 0.21027128398418427\n",
            "epoch: 6, loss: 0.21005912125110626\n",
            "epoch: 7, loss: 0.2098480612039566\n",
            "epoch: 8, loss: 0.20963811874389648\n",
            "epoch: 9, loss: 0.20942917466163635\n"
          ],
          "name": "stdout"
        }
      ]
    },
    {
      "cell_type": "code",
      "metadata": {
        "id": "tHd5rO605sgp",
        "colab": {
          "base_uri": "https://localhost:8080/",
          "height": 286
        },
        "outputId": "50676b99-8acb-4a13-f19a-5cfb70ffc700"
      },
      "source": [
        "y_ = linear_model(x_train)\n",
        "plt.plot(x_train.data.numpy(), y_train.data.numpy(), 'bo', label='real')\n",
        "plt.plot(x_train.data.numpy(), y_.data.numpy(), 'ro', label='estimated')\n",
        "plt.legend()"
      ],
      "execution_count": 21,
      "outputs": [
        {
          "output_type": "execute_result",
          "data": {
            "text/plain": [
              "<matplotlib.legend.Legend at 0x7fbd8bac5be0>"
            ]
          },
          "metadata": {
            "tags": []
          },
          "execution_count": 21
        },
        {
          "output_type": "display_data",
          "data": {
            "image/png": "[encoded data removed]",
            "text/plain": [
              "<Figure size 432x288 with 1 Axes>"
            ]
          },
          "metadata": {
            "tags": [],
            "needs_background": "light"
          }
        }
      ]
    },
    {
      "cell_type": "markdown",
      "metadata": {
        "id": "ODZEQ9zk5sgp"
      },
      "source": [
        "经过 10 次更新，我们发现红色的预测结果已经比较好的拟合了蓝色的真实值。\n",
        "\n",
        "现在你已经学会了你的第一个机器学习模型了，再接再厉，完成下面的小练习。"
      ]
    },
    {
      "cell_type": "markdown",
      "metadata": {
        "id": "44eFKloJ5sgq"
      },
      "source": [
        "**小练习：**\n",
        "\n",
        "重启 notebook 运行上面的线性回归模型，但是改变训练次数以及不同的学习率进行尝试得到不同的结果"
      ]
    },
    {
      "cell_type": "markdown",
      "metadata": {
        "id": "88rqugkp5sgq"
      },
      "source": [
        "## 多项式回归模型\n",
        "\n",
        "下面我们更进一步，讲一讲多项式回归。"
      ]
    },
    {
      "cell_type": "markdown",
      "metadata": {
        "id": "iz_0ddRL5sgq"
      },
      "source": [
        "首先我们可以先定义一个需要拟合的目标函数，这个函数是个三次的多项式"
      ]
    },
    {
      "cell_type": "code",
      "metadata": {
        "id": "T41YSDP45sgq",
        "colab": {
          "base_uri": "https://localhost:8080/"
        },
        "outputId": "68c2e070-550c-4cf4-dd33-2e06d3b7140e"
      },
      "source": [
        "# 定义一个多变量函数\n",
        "\n",
        "w_target = np.array([0.5, 3, 2.4]) # 定义参数\n",
        "b_target = np.array([0.9]) # 定义参数\n",
        "\n",
        "f_des = 'y = {:.2f} + {:.2f} * x + {:.2f} * x^2 + {:.2f} * x^3'.format(\n",
        "    b_target[0], w_target[0], w_target[1], w_target[2]) # 打印出函数的式子\n",
        "\n",
        "print(f_des)\n",
        "print(w_target)"
      ],
      "execution_count": 22,
      "outputs": [
        {
          "output_type": "stream",
          "text": [
            "y = 0.90 + 0.50 * x + 3.00 * x^2 + 2.40 * x^3\n",
            "[0.5 3.  2.4]\n"
          ],
          "name": "stdout"
        }
      ]
    },
    {
      "cell_type": "markdown",
      "metadata": {
        "id": "GMWrjM3j5sgq"
      },
      "source": [
        "我们可以先画出这个多项式的图像"
      ]
    },
    {
      "cell_type": "code",
      "metadata": {
        "id": "J90CPdaz5sgq",
        "colab": {
          "base_uri": "https://localhost:8080/",
          "height": 285
        },
        "outputId": "4a2079e1-c52b-405e-fb66-cf6f04002b38"
      },
      "source": [
        "# 画出这个函数的曲线\n",
        "x_sample = np.arange(-3, 3.1, 0.1)\n",
        "y_sample = b_target[0] + w_target[0] * x_sample + w_target[1] * x_sample ** 2 + w_target[2] * x_sample ** 3\n",
        "plt.plot(x_sample, y_sample, label='real curve')\n",
        "plt.legend()"
      ],
      "execution_count": 23,
      "outputs": [
        {
          "output_type": "execute_result",
          "data": {
            "text/plain": [
              "<matplotlib.legend.Legend at 0x7fbd93f080b8>"
            ]
          },
          "metadata": {
            "tags": []
          },
          "execution_count": 23
        },
        {
          "output_type": "display_data",
          "data": {
            "image/png": "[encoded data removed]",
            "text/plain": [
              "<Figure size 432x288 with 1 Axes>"
            ]
          },
          "metadata": {
            "tags": [],
            "needs_background": "light"
          }
        }
      ]
    },
    {
      "cell_type": "markdown",
      "metadata": {
        "id": "q0pLVqy_5sgr"
      },
      "source": [
        "接着我们可以构建数据集，需要 x 和 y，同时是一个三次多项式，所以我们取了 $x,\\ x^2, x^3$"
      ]
    },
    {
      "cell_type": "code",
      "metadata": {
        "collapsed": true,
        "id": "clq2m-Fk5sgr",
        "outputId": "6016f302-82a3-48bd-d766-bae884727af7",
        "colab": {
          "base_uri": "https://localhost:8080/"
        }
      },
      "source": [
        "# 构建数据 x 和 y\n",
        "# x 是一个如下矩阵 [x, x^2, x^3]\n",
        "# y 是函数的结果 [y]\n",
        "\n",
        "x_train = np.stack([x_sample ** i for i in range(1, 4)], axis=1)\n",
        "print(x_train)\n",
        "x_train = torch.from_numpy(x_train).float() # 转换成 float tensor\n",
        "print(x_train)\n",
        "y_train = torch.from_numpy(y_sample).float().unsqueeze(1) # 转化成 float tensor \n",
        "print(x_train)"
      ],
      "execution_count": 24,
      "outputs": [
        {
          "output_type": "stream",
          "text": [
            "[[-3.00000000e+00  9.00000000e+00 -2.70000000e+01]\n",
            " [-2.90000000e+00  8.41000000e+00 -2.43890000e+01]\n",
            " [-2.80000000e+00  7.84000000e+00 -2.19520000e+01]\n",
            " [-2.70000000e+00  7.29000000e+00 -1.96830000e+01]\n",
            " [-2.60000000e+00  6.76000000e+00 -1.75760000e+01]\n",
            " [-2.50000000e+00  6.25000000e+00 -1.56250000e+01]\n",
            " [-2.40000000e+00  5.76000000e+00 -1.38240000e+01]\n",
            " [-2.30000000e+00  5.29000000e+00 -1.21670000e+01]\n",
            " [-2.20000000e+00  4.84000000e+00 -1.06480000e+01]\n",
            " [-2.10000000e+00  4.41000000e+00 -9.26100000e+00]\n",
            " [-2.00000000e+00  4.00000000e+00 -8.00000000e+00]\n",
            " [-1.90000000e+00  3.61000000e+00 -6.85900000e+00]\n",
            " [-1.80000000e+00  3.24000000e+00 -5.83200000e+00]\n",
            " [-1.70000000e+00  2.89000000e+00 -4.91300000e+00]\n",
            " [-1.60000000e+00  2.56000000e+00 -4.09600000e+00]\n",
            " [-1.50000000e+00  2.25000000e+00 -3.37500000e+00]\n",
            " [-1.40000000e+00  1.96000000e+00 -2.74400000e+00]\n",
            " [-1.30000000e+00  1.69000000e+00 -2.19700000e+00]\n",
            " [-1.20000000e+00  1.44000000e+00 -1.72800000e+00]\n",
            " [-1.10000000e+00  1.21000000e+00 -1.33100000e+00]\n",
            " [-1.00000000e+00  1.00000000e+00 -1.00000000e+00]\n",
            " [-9.00000000e-01  8.10000000e-01 -7.29000000e-01]\n",
            " [-8.00000000e-01  6.40000000e-01 -5.12000000e-01]\n",
            " [-7.00000000e-01  4.90000000e-01 -3.43000000e-01]\n",
            " [-6.00000000e-01  3.60000000e-01 -2.16000000e-01]\n",
            " [-5.00000000e-01  2.50000000e-01 -1.25000000e-01]\n",
            " [-4.00000000e-01  1.60000000e-01 -6.40000000e-02]\n",
            " [-3.00000000e-01  9.00000000e-02 -2.70000000e-02]\n",
            " [-2.00000000e-01  4.00000000e-02 -8.00000000e-03]\n",
            " [-1.00000000e-01  1.00000000e-02 -1.00000000e-03]\n",
            " [ 2.66453526e-15  7.09974815e-30  1.89175293e-44]\n",
            " [ 1.00000000e-01  1.00000000e-02  1.00000000e-03]\n",
            " [ 2.00000000e-01  4.00000000e-02  8.00000000e-03]\n",
            " [ 3.00000000e-01  9.00000000e-02  2.70000000e-02]\n",
            " [ 4.00000000e-01  1.60000000e-01  6.40000000e-02]\n",
            " [ 5.00000000e-01  2.50000000e-01  1.25000000e-01]\n",
            " [ 6.00000000e-01  3.60000000e-01  2.16000000e-01]\n",
            " [ 7.00000000e-01  4.90000000e-01  3.43000000e-01]\n",
            " [ 8.00000000e-01  6.40000000e-01  5.12000000e-01]\n",
            " [ 9.00000000e-01  8.10000000e-01  7.29000000e-01]\n",
            " [ 1.00000000e+00  1.00000000e+00  1.00000000e+00]\n",
            " [ 1.10000000e+00  1.21000000e+00  1.33100000e+00]\n",
            " [ 1.20000000e+00  1.44000000e+00  1.72800000e+00]\n",
            " [ 1.30000000e+00  1.69000000e+00  2.19700000e+00]\n",
            " [ 1.40000000e+00  1.96000000e+00  2.74400000e+00]\n",
            " [ 1.50000000e+00  2.25000000e+00  3.37500000e+00]\n",
            " [ 1.60000000e+00  2.56000000e+00  4.09600000e+00]\n",
            " [ 1.70000000e+00  2.89000000e+00  4.91300000e+00]\n",
            " [ 1.80000000e+00  3.24000000e+00  5.83200000e+00]\n",
            " [ 1.90000000e+00  3.61000000e+00  6.85900000e+00]\n",
            " [ 2.00000000e+00  4.00000000e+00  8.00000000e+00]\n",
            " [ 2.10000000e+00  4.41000000e+00  9.26100000e+00]\n",
            " [ 2.20000000e+00  4.84000000e+00  1.06480000e+01]\n",
            " [ 2.30000000e+00  5.29000000e+00  1.21670000e+01]\n",
            " [ 2.40000000e+00  5.76000000e+00  1.38240000e+01]\n",
            " [ 2.50000000e+00  6.25000000e+00  1.56250000e+01]\n",
            " [ 2.60000000e+00  6.76000000e+00  1.75760000e+01]\n",
            " [ 2.70000000e+00  7.29000000e+00  1.96830000e+01]\n",
            " [ 2.80000000e+00  7.84000000e+00  2.19520000e+01]\n",
            " [ 2.90000000e+00  8.41000000e+00  2.43890000e+01]\n",
            " [ 3.00000000e+00  9.00000000e+00  2.70000000e+01]]\n",
            "tensor([[-3.0000e+00,  9.0000e+00, -2.7000e+01],\n",
            "        [-2.9000e+00,  8.4100e+00, -2.4389e+01],\n",
            "        [-2.8000e+00,  7.8400e+00, -2.1952e+01],\n",
            "        [-2.7000e+00,  7.2900e+00, -1.9683e+01],\n",
            "        [-2.6000e+00,  6.7600e+00, -1.7576e+01],\n",
            "        [-2.5000e+00,  6.2500e+00, -1.5625e+01],\n",
            "        [-2.4000e+00,  5.7600e+00, -1.3824e+01],\n",
            "        [-2.3000e+00,  5.2900e+00, -1.2167e+01],\n",
            "        [-2.2000e+00,  4.8400e+00, -1.0648e+01],\n",
            "        [-2.1000e+00,  4.4100e+00, -9.2610e+00],\n",
            "        [-2.0000e+00,  4.0000e+00, -8.0000e+00],\n",
            "        [-1.9000e+00,  3.6100e+00, -6.8590e+00],\n",
            "        [-1.8000e+00,  3.2400e+00, -5.8320e+00],\n",
            "        [-1.7000e+00,  2.8900e+00, -4.9130e+00],\n",
            "        [-1.6000e+00,  2.5600e+00, -4.0960e+00],\n",
            "        [-1.5000e+00,  2.2500e+00, -3.3750e+00],\n",
            "        [-1.4000e+00,  1.9600e+00, -2.7440e+00],\n",
            "        [-1.3000e+00,  1.6900e+00, -2.1970e+00],\n",
            "        [-1.2000e+00,  1.4400e+00, -1.7280e+00],\n",
            "        [-1.1000e+00,  1.2100e+00, -1.3310e+00],\n",
            "        [-1.0000e+00,  1.0000e+00, -1.0000e+00],\n",
            "        [-9.0000e-01,  8.1000e-01, -7.2900e-01],\n",
            "        [-8.0000e-01,  6.4000e-01, -5.1200e-01],\n",
            "        [-7.0000e-01,  4.9000e-01, -3.4300e-01],\n",
            "        [-6.0000e-01,  3.6000e-01, -2.1600e-01],\n",
            "        [-5.0000e-01,  2.5000e-01, -1.2500e-01],\n",
            "        [-4.0000e-01,  1.6000e-01, -6.4000e-02],\n",
            "        [-3.0000e-01,  9.0000e-02, -2.7000e-02],\n",
            "        [-2.0000e-01,  4.0000e-02, -8.0000e-03],\n",
            "        [-1.0000e-01,  1.0000e-02, -1.0000e-03],\n",
            "        [ 2.6645e-15,  7.0997e-30,  1.9618e-44],\n",
            "        [ 1.0000e-01,  1.0000e-02,  1.0000e-03],\n",
            "        [ 2.0000e-01,  4.0000e-02,  8.0000e-03],\n",
            "        [ 3.0000e-01,  9.0000e-02,  2.7000e-02],\n",
            "        [ 4.0000e-01,  1.6000e-01,  6.4000e-02],\n",
            "        [ 5.0000e-01,  2.5000e-01,  1.2500e-01],\n",
            "        [ 6.0000e-01,  3.6000e-01,  2.1600e-01],\n",
            "        [ 7.0000e-01,  4.9000e-01,  3.4300e-01],\n",
            "        [ 8.0000e-01,  6.4000e-01,  5.1200e-01],\n",
            "        [ 9.0000e-01,  8.1000e-01,  7.2900e-01],\n",
            "        [ 1.0000e+00,  1.0000e+00,  1.0000e+00],\n",
            "        [ 1.1000e+00,  1.2100e+00,  1.3310e+00],\n",
            "        [ 1.2000e+00,  1.4400e+00,  1.7280e+00],\n",
            "        [ 1.3000e+00,  1.6900e+00,  2.1970e+00],\n",
            "        [ 1.4000e+00,  1.9600e+00,  2.7440e+00],\n",
            "        [ 1.5000e+00,  2.2500e+00,  3.3750e+00],\n",
            "        [ 1.6000e+00,  2.5600e+00,  4.0960e+00],\n",
            "        [ 1.7000e+00,  2.8900e+00,  4.9130e+00],\n",
            "        [ 1.8000e+00,  3.2400e+00,  5.8320e+00],\n",
            "        [ 1.9000e+00,  3.6100e+00,  6.8590e+00],\n",
            "        [ 2.0000e+00,  4.0000e+00,  8.0000e+00],\n",
            "        [ 2.1000e+00,  4.4100e+00,  9.2610e+00],\n",
            "        [ 2.2000e+00,  4.8400e+00,  1.0648e+01],\n",
            "        [ 2.3000e+00,  5.2900e+00,  1.2167e+01],\n",
            "        [ 2.4000e+00,  5.7600e+00,  1.3824e+01],\n",
            "        [ 2.5000e+00,  6.2500e+00,  1.5625e+01],\n",
            "        [ 2.6000e+00,  6.7600e+00,  1.7576e+01],\n",
            "        [ 2.7000e+00,  7.2900e+00,  1.9683e+01],\n",
            "        [ 2.8000e+00,  7.8400e+00,  2.1952e+01],\n",
            "        [ 2.9000e+00,  8.4100e+00,  2.4389e+01],\n",
            "        [ 3.0000e+00,  9.0000e+00,  2.7000e+01]])\n",
            "tensor([[-3.0000e+00,  9.0000e+00, -2.7000e+01],\n",
            "        [-2.9000e+00,  8.4100e+00, -2.4389e+01],\n",
            "        [-2.8000e+00,  7.8400e+00, -2.1952e+01],\n",
            "        [-2.7000e+00,  7.2900e+00, -1.9683e+01],\n",
            "        [-2.6000e+00,  6.7600e+00, -1.7576e+01],\n",
            "        [-2.5000e+00,  6.2500e+00, -1.5625e+01],\n",
            "        [-2.4000e+00,  5.7600e+00, -1.3824e+01],\n",
            "        [-2.3000e+00,  5.2900e+00, -1.2167e+01],\n",
            "        [-2.2000e+00,  4.8400e+00, -1.0648e+01],\n",
            "        [-2.1000e+00,  4.4100e+00, -9.2610e+00],\n",
            "        [-2.0000e+00,  4.0000e+00, -8.0000e+00],\n",
            "        [-1.9000e+00,  3.6100e+00, -6.8590e+00],\n",
            "        [-1.8000e+00,  3.2400e+00, -5.8320e+00],\n",
            "        [-1.7000e+00,  2.8900e+00, -4.9130e+00],\n",
            "        [-1.6000e+00,  2.5600e+00, -4.0960e+00],\n",
            "        [-1.5000e+00,  2.2500e+00, -3.3750e+00],\n",
            "        [-1.4000e+00,  1.9600e+00, -2.7440e+00],\n",
            "        [-1.3000e+00,  1.6900e+00, -2.1970e+00],\n",
            "        [-1.2000e+00,  1.4400e+00, -1.7280e+00],\n",
            "        [-1.1000e+00,  1.2100e+00, -1.3310e+00],\n",
            "        [-1.0000e+00,  1.0000e+00, -1.0000e+00],\n",
            "        [-9.0000e-01,  8.1000e-01, -7.2900e-01],\n",
            "        [-8.0000e-01,  6.4000e-01, -5.1200e-01],\n",
            "        [-7.0000e-01,  4.9000e-01, -3.4300e-01],\n",
            "        [-6.0000e-01,  3.6000e-01, -2.1600e-01],\n",
            "        [-5.0000e-01,  2.5000e-01, -1.2500e-01],\n",
            "        [-4.0000e-01,  1.6000e-01, -6.4000e-02],\n",
            "        [-3.0000e-01,  9.0000e-02, -2.7000e-02],\n",
            "        [-2.0000e-01,  4.0000e-02, -8.0000e-03],\n",
            "        [-1.0000e-01,  1.0000e-02, -1.0000e-03],\n",
            "        [ 2.6645e-15,  7.0997e-30,  1.9618e-44],\n",
            "        [ 1.0000e-01,  1.0000e-02,  1.0000e-03],\n",
            "        [ 2.0000e-01,  4.0000e-02,  8.0000e-03],\n",
            "        [ 3.0000e-01,  9.0000e-02,  2.7000e-02],\n",
            "        [ 4.0000e-01,  1.6000e-01,  6.4000e-02],\n",
            "        [ 5.0000e-01,  2.5000e-01,  1.2500e-01],\n",
            "        [ 6.0000e-01,  3.6000e-01,  2.1600e-01],\n",
            "        [ 7.0000e-01,  4.9000e-01,  3.4300e-01],\n",
            "        [ 8.0000e-01,  6.4000e-01,  5.1200e-01],\n",
            "        [ 9.0000e-01,  8.1000e-01,  7.2900e-01],\n",
            "        [ 1.0000e+00,  1.0000e+00,  1.0000e+00],\n",
            "        [ 1.1000e+00,  1.2100e+00,  1.3310e+00],\n",
            "        [ 1.2000e+00,  1.4400e+00,  1.7280e+00],\n",
            "        [ 1.3000e+00,  1.6900e+00,  2.1970e+00],\n",
            "        [ 1.4000e+00,  1.9600e+00,  2.7440e+00],\n",
            "        [ 1.5000e+00,  2.2500e+00,  3.3750e+00],\n",
            "        [ 1.6000e+00,  2.5600e+00,  4.0960e+00],\n",
            "        [ 1.7000e+00,  2.8900e+00,  4.9130e+00],\n",
            "        [ 1.8000e+00,  3.2400e+00,  5.8320e+00],\n",
            "        [ 1.9000e+00,  3.6100e+00,  6.8590e+00],\n",
            "        [ 2.0000e+00,  4.0000e+00,  8.0000e+00],\n",
            "        [ 2.1000e+00,  4.4100e+00,  9.2610e+00],\n",
            "        [ 2.2000e+00,  4.8400e+00,  1.0648e+01],\n",
            "        [ 2.3000e+00,  5.2900e+00,  1.2167e+01],\n",
            "        [ 2.4000e+00,  5.7600e+00,  1.3824e+01],\n",
            "        [ 2.5000e+00,  6.2500e+00,  1.5625e+01],\n",
            "        [ 2.6000e+00,  6.7600e+00,  1.7576e+01],\n",
            "        [ 2.7000e+00,  7.2900e+00,  1.9683e+01],\n",
            "        [ 2.8000e+00,  7.8400e+00,  2.1952e+01],\n",
            "        [ 2.9000e+00,  8.4100e+00,  2.4389e+01],\n",
            "        [ 3.0000e+00,  9.0000e+00,  2.7000e+01]])\n"
          ],
          "name": "stdout"
        }
      ]
    },
    {
      "cell_type": "markdown",
      "metadata": {
        "id": "QGa2Q1zl5sgr"
      },
      "source": [
        "接着我们可以定义需要优化的参数，就是前面这个函数里面的 $w_i$"
      ]
    },
    {
      "cell_type": "code",
      "metadata": {
        "collapsed": true,
        "id": "2RHX4ol35sgr",
        "outputId": "b67d1710-d77b-42aa-c222-3dc59a6d2155",
        "colab": {
          "base_uri": "https://localhost:8080/"
        }
      },
      "source": [
        "# 定义参数和模型\n",
        "w = Variable(torch.randn(3, 1), requires_grad=True)\n",
        "b = Variable(torch.zeros(1), requires_grad=True)\n",
        "print(w)\n",
        "# 将 x 和 y 转换成 Variable\n",
        "x_train = Variable(x_train)\n",
        "y_train = Variable(y_train)\n",
        "\n",
        "def multi_linear(x):\n",
        "    return torch.mm(x, w) + b"
      ],
      "execution_count": 26,
      "outputs": [
        {
          "output_type": "stream",
          "text": [
            "tensor([[ 0.8055],\n",
            "        [ 1.0352],\n",
            "        [-0.2885]], requires_grad=True)\n"
          ],
          "name": "stdout"
        }
      ]
    },
    {
      "cell_type": "markdown",
      "metadata": {
        "id": "5R_MaGcX5sgr"
      },
      "source": [
        "我们可以画出没有更新之前的模型和真实的模型之间的对比"
      ]
    },
    {
      "cell_type": "code",
      "metadata": {
        "id": "S-1zQ3Do5sgr",
        "colab": {
          "base_uri": "https://localhost:8080/",
          "height": 285
        },
        "outputId": "9d24d71f-10f2-48d6-dffc-6c56a18617cc"
      },
      "source": [
        "# 画出更新之前的模型\n",
        "y_pred = multi_linear(x_train)\n",
        "\n",
        "plt.plot(x_train.data.numpy()[:, 0], y_pred.data.numpy(), label='fitting curve', color='r')\n",
        "plt.plot(x_train.data.numpy()[:, 0], y_sample, label='real curve', color='b')\n",
        "plt.legend()"
      ],
      "execution_count": 27,
      "outputs": [
        {
          "output_type": "execute_result",
          "data": {
            "text/plain": [
              "<matplotlib.legend.Legend at 0x7fbd8b9a4128>"
            ]
          },
          "metadata": {
            "tags": []
          },
          "execution_count": 27
        },
        {
          "output_type": "display_data",
          "data": {
            "image/png": "[encoded data removed]",
            "text/plain": [
              "<Figure size 432x288 with 1 Axes>"
            ]
          },
          "metadata": {
            "tags": [],
            "needs_background": "light"
          }
        }
      ]
    },
    {
      "cell_type": "markdown",
      "metadata": {
        "id": "cKPos1bt5sgs"
      },
      "source": [
        "可以发现，这两条曲线之间存在差异，我们计算一下他们之间的误差"
      ]
    },
    {
      "cell_type": "code",
      "metadata": {
        "id": "dIp3kLI05sgs",
        "colab": {
          "base_uri": "https://localhost:8080/"
        },
        "outputId": "42313f67-b789-4ce5-9ed4-b05024e82ad5"
      },
      "source": [
        "# 计算误差，这里的误差和一元的线性模型的误差是相同的，前面已经定义过了 get_loss\n",
        "loss = get_loss(y_pred, y_train)\n",
        "print(loss)"
      ],
      "execution_count": 28,
      "outputs": [
        {
          "output_type": "stream",
          "text": [
            "tensor(880.0692, grad_fn=<MeanBackward0>)\n"
          ],
          "name": "stdout"
        }
      ]
    },
    {
      "cell_type": "code",
      "metadata": {
        "collapsed": true,
        "id": "iLcVvxH25sgs"
      },
      "source": [
        "# 自动求导\n",
        "loss.backward()"
      ],
      "execution_count": 29,
      "outputs": []
    },
    {
      "cell_type": "code",
      "metadata": {
        "id": "X_0eagQ55sgs",
        "colab": {
          "base_uri": "https://localhost:8080/"
        },
        "outputId": "ed229389-0779-4026-a55b-f3f603c12642"
      },
      "source": [
        "# 查看一下 w 和 b 的梯度\n",
        "print(w.grad)\n",
        "print(b.grad)"
      ],
      "execution_count": 30,
      "outputs": [
        {
          "output_type": "stream",
          "text": [
            "tensor([[ -91.0834],\n",
            "        [ -73.5296],\n",
            "        [-606.6281]])\n",
            "tensor([-13.9817])\n"
          ],
          "name": "stdout"
        }
      ]
    },
    {
      "cell_type": "code",
      "metadata": {
        "collapsed": true,
        "id": "erpUw00p5sgs"
      },
      "source": [
        "# 更新一下参数\n",
        "w.data = w.data - 0.001 * w.grad.data\n",
        "b.data = b.data - 0.001 * b.grad.data"
      ],
      "execution_count": 31,
      "outputs": []
    },
    {
      "cell_type": "code",
      "metadata": {
        "id": "qQFc7Wfe5sgs",
        "colab": {
          "base_uri": "https://localhost:8080/",
          "height": 285
        },
        "outputId": "5d0c6b28-80c2-46b6-f504-f32d872870ff"
      },
      "source": [
        "# 画出更新一次之后的模型\n",
        "y_pred = multi_linear(x_train)\n",
        "\n",
        "plt.plot(x_train.data.numpy()[:, 0], y_pred.data.numpy(), label='fitting curve', color='r')\n",
        "plt.plot(x_train.data.numpy()[:, 0], y_sample, label='real curve', color='b')\n",
        "plt.legend()"
      ],
      "execution_count": 32,
      "outputs": [
        {
          "output_type": "execute_result",
          "data": {
            "text/plain": [
              "<matplotlib.legend.Legend at 0x7fbd8b928b70>"
            ]
          },
          "metadata": {
            "tags": []
          },
          "execution_count": 32
        },
        {
          "output_type": "display_data",
          "data": {
            "image/png": "[encoded data removed]",
            "text/plain": [
              "<Figure size 432x288 with 1 Axes>"
            ]
          },
          "metadata": {
            "tags": [],
            "needs_background": "light"
          }
        }
      ]
    },
    {
      "cell_type": "markdown",
      "metadata": {
        "id": "KO9PjYdn5sgt"
      },
      "source": [
        "因为只更新了一次，所以两条曲线之间的差异仍然存在，我们进行 100 次迭代"
      ]
    },
    {
      "cell_type": "code",
      "metadata": {
        "id": "bLwBC26T5sgt",
        "colab": {
          "base_uri": "https://localhost:8080/"
        },
        "outputId": "e33da7ec-ea16-4a6b-e63c-4ee8bab75bfb"
      },
      "source": [
        "# 进行 100 次参数更新\n",
        "for e in range(100):\n",
        "    y_pred = multi_linear(x_train)\n",
        "    loss = get_loss(y_pred, y_train)\n",
        "    \n",
        "    w.grad.data.zero_()\n",
        "    b.grad.data.zero_()\n",
        "    loss.backward()\n",
        "    \n",
        "    # 更新参数\n",
        "    w.data = w.data - 0.001 * w.grad.data\n",
        "    b.data = b.data - 0.001 * b.grad.data\n",
        "    if (e + 1) % 20 == 0:\n",
        "        print('epoch {}, Loss: {}'.format(e+1 , loss.item()))"
      ],
      "execution_count": 33,
      "outputs": [
        {
          "output_type": "stream",
          "text": [
            "epoch 20, Loss: 18.663999557495117\n",
            "epoch 40, Loss: 4.605344295501709\n",
            "epoch 60, Loss: 1.3192431926727295\n",
            "epoch 80, Loss: 0.5433903336524963\n",
            "epoch 100, Loss: 0.35370564460754395\n"
          ],
          "name": "stdout"
        }
      ]
    },
    {
      "cell_type": "markdown",
      "metadata": {
        "id": "1LUJ9PYl5sgt"
      },
      "source": [
        "可以看到更新完成之后 loss 已经非常小了，我们画出更新之后的曲线对比"
      ]
    },
    {
      "cell_type": "code",
      "metadata": {
        "id": "FW4oT17_5sgt",
        "colab": {
          "base_uri": "https://localhost:8080/",
          "height": 285
        },
        "outputId": "3f515fd0-c5f8-472d-85cd-2a1afdfd0dda"
      },
      "source": [
        "# 画出更新之后的结果\n",
        "y_pred = multi_linear(x_train)\n",
        "\n",
        "plt.plot(x_train.data.numpy()[:, 0], y_pred.data.numpy(), label='fitting curve', color='r')\n",
        "plt.plot(x_train.data.numpy()[:, 0], y_sample, label='real curve', color='b')\n",
        "plt.legend()"
      ],
      "execution_count": 34,
      "outputs": [
        {
          "output_type": "execute_result",
          "data": {
            "text/plain": [
              "<matplotlib.legend.Legend at 0x7fbd8b8a45c0>"
            ]
          },
          "metadata": {
            "tags": []
          },
          "execution_count": 34
        },
        {
          "output_type": "display_data",
          "data": {
            "image/png": "[encoded data removed]",
            "text/plain": [
              "<Figure size 432x288 with 1 Axes>"
            ]
          },
          "metadata": {
            "tags": [],
            "needs_background": "light"
          }
        }
      ]
    },
    {
      "cell_type": "markdown",
      "metadata": {
        "id": "8FGbCQ7D5sgt"
      },
      "source": [
        "可以看到，经过 100 次更新之后，可以看到拟合的线和真实的线已经完全重合了"
      ]
    },
    {
      "cell_type": "markdown",
      "metadata": {
        "collapsed": true,
        "id": "lLVDdwc45sgt"
      },
      "source": [
        "**小练习：上面的例子是一个三次的多项式，尝试使用二次的多项式去拟合它，看看最后能做到多好**\n",
        "\n",
        "**提示：参数 `w = torch.randn(2, 1)`，同时重新构建 x 数据集**"
      ]
    }
  ]
}